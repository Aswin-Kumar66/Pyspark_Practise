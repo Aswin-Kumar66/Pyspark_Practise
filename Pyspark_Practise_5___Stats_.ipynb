{
  "nbformat": 4,
  "nbformat_minor": 0,
  "metadata": {
    "colab": {
      "provenance": [],
      "authorship_tag": "ABX9TyMVA3Y7++yT1krgGC94xOd0",
      "include_colab_link": true
    },
    "kernelspec": {
      "name": "python3",
      "display_name": "Python 3"
    },
    "language_info": {
      "name": "python"
    }
  },
  "cells": [
    {
      "cell_type": "markdown",
      "metadata": {
        "id": "view-in-github",
        "colab_type": "text"
      },
      "source": [
        "<a href=\"https://colab.research.google.com/github/Aswin-Kumar66/Pyspark_Practise/blob/main/Pyspark_Practise_5___Stats_.ipynb\" target=\"_parent\"><img src=\"https://colab.research.google.com/assets/colab-badge.svg\" alt=\"Open In Colab\"/></a>"
      ]
    },
    {
      "cell_type": "code",
      "execution_count": 2,
      "metadata": {
        "colab": {
          "base_uri": "https://localhost:8080/"
        },
        "id": "niQii_Mdk7Hr",
        "outputId": "eb75dd1c-9d0c-46fc-ec93-505dab5bc23e"
      },
      "outputs": [
        {
          "output_type": "stream",
          "name": "stdout",
          "text": [
            "Collecting pyspark\n",
            "  Downloading pyspark-3.5.1.tar.gz (317.0 MB)\n",
            "\u001b[2K     \u001b[90m━━━━━━━━━━━━━━━━━━━━━━━━━━━━━━━━━━━━━━━━\u001b[0m \u001b[32m317.0/317.0 MB\u001b[0m \u001b[31m2.5 MB/s\u001b[0m eta \u001b[36m0:00:00\u001b[0m\n",
            "\u001b[?25h  Preparing metadata (setup.py) ... \u001b[?25l\u001b[?25hdone\n",
            "Requirement already satisfied: py4j==0.10.9.7 in /usr/local/lib/python3.10/dist-packages (from pyspark) (0.10.9.7)\n",
            "Building wheels for collected packages: pyspark\n",
            "  Building wheel for pyspark (setup.py) ... \u001b[?25l\u001b[?25hdone\n",
            "  Created wheel for pyspark: filename=pyspark-3.5.1-py2.py3-none-any.whl size=317488491 sha256=84f459a1fa68de58192e0c5db8b4266e14f99aa371862ad6071519048fd1df3f\n",
            "  Stored in directory: /root/.cache/pip/wheels/80/1d/60/2c256ed38dddce2fdd93be545214a63e02fbd8d74fb0b7f3a6\n",
            "Successfully built pyspark\n",
            "Installing collected packages: pyspark\n",
            "Successfully installed pyspark-3.5.1\n"
          ]
        }
      ],
      "source": [
        "pip install pyspark"
      ]
    },
    {
      "cell_type": "code",
      "source": [
        "import pyspark\n",
        "from pyspark.sql import SparkSession\n",
        "from pyspark.sql import functions as F\n",
        "\n",
        "spark = SparkSession.builder.getOrCreate()"
      ],
      "metadata": {
        "id": "ElxFFi47k-pl"
      },
      "execution_count": 3,
      "outputs": []
    },
    {
      "cell_type": "markdown",
      "source": [
        "## Question 7"
      ],
      "metadata": {
        "id": "ayErJeck9ZYk"
      }
    },
    {
      "cell_type": "code",
      "source": [
        "df = spark.read.csv('US_Baby_Names_right.csv'  , header = True , inferSchema = True)"
      ],
      "metadata": {
        "id": "r9ZyqocO9cG_"
      },
      "execution_count": 126,
      "outputs": []
    },
    {
      "cell_type": "code",
      "source": [
        "df.show()"
      ],
      "metadata": {
        "colab": {
          "base_uri": "https://localhost:8080/"
        },
        "id": "SRz64DtP9ksQ",
        "outputId": "da3cda9a-1062-440f-d9a8-e01f6cb244fa"
      },
      "execution_count": 127,
      "outputs": [
        {
          "output_type": "stream",
          "name": "stdout",
          "text": [
            "+-----+-----+---------+----+------+-----+-----+\n",
            "|  _c0|   Id|     Name|Year|Gender|State|Count|\n",
            "+-----+-----+---------+----+------+-----+-----+\n",
            "|11349|11350|     Emma|2004|     F|   AK|   62|\n",
            "|11350|11351|  Madison|2004|     F|   AK|   48|\n",
            "|11351|11352|   Hannah|2004|     F|   AK|   46|\n",
            "|11352|11353|    Grace|2004|     F|   AK|   44|\n",
            "|11353|11354|    Emily|2004|     F|   AK|   41|\n",
            "|11354|11355|  Abigail|2004|     F|   AK|   37|\n",
            "|11355|11356|   Olivia|2004|     F|   AK|   33|\n",
            "|11356|11357| Isabella|2004|     F|   AK|   30|\n",
            "|11357|11358|   Alyssa|2004|     F|   AK|   29|\n",
            "|11358|11359|   Sophia|2004|     F|   AK|   28|\n",
            "|11359|11360|   Alexis|2004|     F|   AK|   27|\n",
            "|11360|11361|Elizabeth|2004|     F|   AK|   27|\n",
            "|11361|11362|   Hailey|2004|     F|   AK|   27|\n",
            "|11362|11363|     Anna|2004|     F|   AK|   26|\n",
            "|11363|11364|  Natalie|2004|     F|   AK|   25|\n",
            "|11364|11365|    Sarah|2004|     F|   AK|   25|\n",
            "|11365|11366|   Sydney|2004|     F|   AK|   25|\n",
            "|11366|11367|      Ava|2004|     F|   AK|   23|\n",
            "|11367|11368|  Trinity|2004|     F|   AK|   22|\n",
            "|11368|11369|    Haley|2004|     F|   AK|   21|\n",
            "+-----+-----+---------+----+------+-----+-----+\n",
            "only showing top 20 rows\n",
            "\n"
          ]
        }
      ]
    },
    {
      "cell_type": "code",
      "source": [
        "df.columns"
      ],
      "metadata": {
        "colab": {
          "base_uri": "https://localhost:8080/"
        },
        "id": "LcTlKY4Y9lnb",
        "outputId": "f81be079-a624-4dae-97aa-e6a82db074fe"
      },
      "execution_count": 128,
      "outputs": [
        {
          "output_type": "execute_result",
          "data": {
            "text/plain": [
              "['_c0', 'Id', 'Name', 'Year', 'Gender', 'State', 'Count']"
            ]
          },
          "metadata": {},
          "execution_count": 128
        }
      ]
    },
    {
      "cell_type": "code",
      "source": [
        "df = df.drop('_c0').drop('Id')\n",
        "df.show()"
      ],
      "metadata": {
        "colab": {
          "base_uri": "https://localhost:8080/"
        },
        "id": "lPzgnwbA9ls5",
        "outputId": "7034dc38-9ea6-4049-cf0d-bd6f6af8a4b7"
      },
      "execution_count": 129,
      "outputs": [
        {
          "output_type": "stream",
          "name": "stdout",
          "text": [
            "+---------+----+------+-----+-----+\n",
            "|     Name|Year|Gender|State|Count|\n",
            "+---------+----+------+-----+-----+\n",
            "|     Emma|2004|     F|   AK|   62|\n",
            "|  Madison|2004|     F|   AK|   48|\n",
            "|   Hannah|2004|     F|   AK|   46|\n",
            "|    Grace|2004|     F|   AK|   44|\n",
            "|    Emily|2004|     F|   AK|   41|\n",
            "|  Abigail|2004|     F|   AK|   37|\n",
            "|   Olivia|2004|     F|   AK|   33|\n",
            "| Isabella|2004|     F|   AK|   30|\n",
            "|   Alyssa|2004|     F|   AK|   29|\n",
            "|   Sophia|2004|     F|   AK|   28|\n",
            "|   Alexis|2004|     F|   AK|   27|\n",
            "|Elizabeth|2004|     F|   AK|   27|\n",
            "|   Hailey|2004|     F|   AK|   27|\n",
            "|     Anna|2004|     F|   AK|   26|\n",
            "|  Natalie|2004|     F|   AK|   25|\n",
            "|    Sarah|2004|     F|   AK|   25|\n",
            "|   Sydney|2004|     F|   AK|   25|\n",
            "|      Ava|2004|     F|   AK|   23|\n",
            "|  Trinity|2004|     F|   AK|   22|\n",
            "|    Haley|2004|     F|   AK|   21|\n",
            "+---------+----+------+-----+-----+\n",
            "only showing top 20 rows\n",
            "\n"
          ]
        }
      ]
    },
    {
      "cell_type": "code",
      "source": [
        "df.count()"
      ],
      "metadata": {
        "colab": {
          "base_uri": "https://localhost:8080/"
        },
        "id": "dnrUWCcH-hMb",
        "outputId": "f0a551d4-79fa-491c-9b03-c547b571ac0d"
      },
      "execution_count": 130,
      "outputs": [
        {
          "output_type": "execute_result",
          "data": {
            "text/plain": [
              "1016395"
            ]
          },
          "metadata": {},
          "execution_count": 130
        }
      ]
    },
    {
      "cell_type": "code",
      "source": [
        "df.groupby('Gender').count().show()"
      ],
      "metadata": {
        "colab": {
          "base_uri": "https://localhost:8080/"
        },
        "id": "VY6uSEVU9l1j",
        "outputId": "21cd4443-fa20-4631-a6ea-011e6d839eb5"
      },
      "execution_count": 131,
      "outputs": [
        {
          "output_type": "stream",
          "name": "stdout",
          "text": [
            "+------+------+\n",
            "|Gender| count|\n",
            "+------+------+\n",
            "|     F|558846|\n",
            "|     M|457549|\n",
            "+------+------+\n",
            "\n"
          ]
        }
      ]
    },
    {
      "cell_type": "code",
      "source": [
        "names = df.groupby(\"Name\").count()\n",
        "names.sort('count' , ascending = False).show()"
      ],
      "metadata": {
        "colab": {
          "base_uri": "https://localhost:8080/"
        },
        "id": "Aan-RUOs-cyz",
        "outputId": "2a5c90a3-3182-4b48-c3b8-e18062af08b5"
      },
      "execution_count": 132,
      "outputs": [
        {
          "output_type": "stream",
          "name": "stdout",
          "text": [
            "+-------+-----+\n",
            "|   Name|count|\n",
            "+-------+-----+\n",
            "|  Riley| 1112|\n",
            "|  Avery| 1080|\n",
            "| Jordan| 1073|\n",
            "| Peyton| 1064|\n",
            "| Hayden| 1049|\n",
            "| Taylor| 1033|\n",
            "| Jayden| 1031|\n",
            "| Alexis|  984|\n",
            "| Payton|  971|\n",
            "|  Angel|  962|\n",
            "| Dakota|  962|\n",
            "|  Logan|  957|\n",
            "| Parker|  947|\n",
            "| Morgan|  945|\n",
            "|Cameron|  944|\n",
            "|   Ryan|  901|\n",
            "| Skyler|  895|\n",
            "|  Dylan|  895|\n",
            "|  Reese|  880|\n",
            "|  Quinn|  873|\n",
            "+-------+-----+\n",
            "only showing top 20 rows\n",
            "\n"
          ]
        }
      ]
    },
    {
      "cell_type": "code",
      "source": [
        "names.count()"
      ],
      "metadata": {
        "colab": {
          "base_uri": "https://localhost:8080/"
        },
        "id": "7GLk7UsQ9l84",
        "outputId": "cadf4d9b-6578-411d-e85f-ac8c582cb145"
      },
      "execution_count": 133,
      "outputs": [
        {
          "output_type": "execute_result",
          "data": {
            "text/plain": [
              "17632"
            ]
          },
          "metadata": {},
          "execution_count": 133
        }
      ]
    },
    {
      "cell_type": "code",
      "source": [
        "names.sort('count' , ascending = False).collect()[0]['Name']"
      ],
      "metadata": {
        "colab": {
          "base_uri": "https://localhost:8080/",
          "height": 36
        },
        "id": "Yos2gk4cBeZF",
        "outputId": "ea353396-c16c-4413-d5a9-1998d49c54af"
      },
      "execution_count": 134,
      "outputs": [
        {
          "output_type": "execute_result",
          "data": {
            "text/plain": [
              "'Riley'"
            ],
            "application/vnd.google.colaboratory.intrinsic+json": {
              "type": "string"
            }
          },
          "metadata": {},
          "execution_count": 134
        }
      ]
    },
    {
      "cell_type": "code",
      "source": [
        "\n",
        "a = names.select(F.min('count')).collect()[0]\n",
        "a[0]\n",
        "\n",
        "print(\"least occured names count  \",names.filter(F.col('count') == a[0]).count())\n",
        "names.filter(F.col('count') == a[0]).show()"
      ],
      "metadata": {
        "colab": {
          "base_uri": "https://localhost:8080/"
        },
        "id": "3cBU-1EUBfJR",
        "outputId": "d88faf18-7507-4784-ef35-4409c35edb36"
      },
      "execution_count": 135,
      "outputs": [
        {
          "output_type": "stream",
          "name": "stdout",
          "text": [
            "least occured names count   3682\n",
            "+---------+-----+\n",
            "|     Name|count|\n",
            "+---------+-----+\n",
            "|  Nemesis|    1|\n",
            "| Marlaina|    1|\n",
            "|   Breezy|    1|\n",
            "| Monalisa|    1|\n",
            "|     Roxi|    1|\n",
            "|    Shian|    1|\n",
            "|   Mantej|    1|\n",
            "|    Emira|    1|\n",
            "|Annajulia|    1|\n",
            "|    Syris|    1|\n",
            "|  Yanette|    1|\n",
            "|  Clariza|    1|\n",
            "|Francella|    1|\n",
            "|  Manisha|    1|\n",
            "|   Oracio|    1|\n",
            "|     Etai|    1|\n",
            "|    Siris|    1|\n",
            "|      Roc|    1|\n",
            "|   Atiksh|    1|\n",
            "|  Woodley|    1|\n",
            "+---------+-----+\n",
            "only showing top 20 rows\n",
            "\n"
          ]
        }
      ]
    },
    {
      "cell_type": "code",
      "source": [
        "names.select(F.std('count')).show()"
      ],
      "metadata": {
        "colab": {
          "base_uri": "https://localhost:8080/"
        },
        "id": "e-KGanNrBd_q",
        "outputId": "ee0070fa-38be-40fd-e8cf-26ebd418bfc3"
      },
      "execution_count": 136,
      "outputs": [
        {
          "output_type": "stream",
          "name": "stdout",
          "text": [
            "+------------------+\n",
            "|        std(count)|\n",
            "+------------------+\n",
            "|122.02996350813885|\n",
            "+------------------+\n",
            "\n"
          ]
        }
      ]
    },
    {
      "cell_type": "code",
      "source": [
        "names.describe().show()"
      ],
      "metadata": {
        "colab": {
          "base_uri": "https://localhost:8080/"
        },
        "id": "NvT5Sx8xBdsn",
        "outputId": "7fde4a51-9f40-4fcb-abd1-904061ac45a2"
      },
      "execution_count": 137,
      "outputs": [
        {
          "output_type": "stream",
          "name": "stdout",
          "text": [
            "+-------+--------+------------------+\n",
            "|summary|    Name|             count|\n",
            "+-------+--------+------------------+\n",
            "|  count|   17632|             17632|\n",
            "|   mean|Infinity|57.644906987295826|\n",
            "| stddev|    NULL|122.02996350813885|\n",
            "|    min|   Aaban|                 1|\n",
            "|    max|  Zyriah|              1112|\n",
            "+-------+--------+------------------+\n",
            "\n"
          ]
        }
      ]
    },
    {
      "cell_type": "code",
      "source": [],
      "metadata": {
        "id": "S-o5rWXUFXEv"
      },
      "execution_count": 137,
      "outputs": []
    },
    {
      "cell_type": "markdown",
      "source": [
        "## Question 8"
      ],
      "metadata": {
        "id": "SoP84zkeGJop"
      }
    },
    {
      "cell_type": "code",
      "source": [
        "wind = spark.read.csv('wind.csv' , header = True , inferSchema = True )"
      ],
      "metadata": {
        "id": "-vIoaIO4GLfe"
      },
      "execution_count": 138,
      "outputs": []
    },
    {
      "cell_type": "code",
      "source": [
        "wind.show()"
      ],
      "metadata": {
        "colab": {
          "base_uri": "https://localhost:8080/"
        },
        "id": "7djaq043GZBL",
        "outputId": "662f877f-a1fa-4e82-c677-d338791a7688"
      },
      "execution_count": 139,
      "outputs": [
        {
          "output_type": "stream",
          "name": "stdout",
          "text": [
            "+---+---+---+-----+-----+-----+-----+-----+-----+-----+-----+-----+-----+-----+-----+\n",
            "| Yr| Mo| Dy|  RPT|  VAL|  ROS|  KIL|  SHA|  BIR|  DUB|  CLA|  MUL|  CLO|  BEL|  MAL|\n",
            "+---+---+---+-----+-----+-----+-----+-----+-----+-----+-----+-----+-----+-----+-----+\n",
            "| 61|  1|  1|15.04|14.96|13.17| 9.29|  NaN| 9.87|13.67|10.25|10.83|12.58| 18.5|15.04|\n",
            "| 61|  1|  2|14.71|  NaN|10.83|  6.5|12.62| 7.67| 11.5|10.04| 9.79| 9.67|17.54|13.83|\n",
            "| 61|  1|  3| 18.5|16.88|12.33|10.13|11.17| 6.17|11.25|  NaN|  8.5| 7.67|12.75|12.71|\n",
            "| 61|  1|  4|10.58| 6.63|11.75| 4.58| 4.54| 2.88| 8.63| 1.79| 5.83| 5.88| 5.46|10.88|\n",
            "| 61|  1|  5|13.33|13.25|11.42| 6.17|10.71| 8.21|11.92| 6.54|10.92|10.34|12.92|11.83|\n",
            "| 61|  1|  6|13.21| 8.12| 9.96| 6.67| 5.37|  4.5|10.67| 4.42| 7.17|  7.5| 8.12|13.17|\n",
            "| 61|  1|  7| 13.5|14.29|  9.5| 4.96|12.29| 8.33| 9.17| 9.29| 7.58| 7.96|13.96|13.79|\n",
            "| 61|  1|  8|10.96| 9.75| 7.62| 5.91| 9.62| 7.29|14.29| 7.62| 9.25|10.46|16.62|16.46|\n",
            "| 61|  1|  9|12.58|10.83| 10.0| 4.75|10.37| 6.79| 8.04|10.13| 7.79| 9.08|13.04|15.37|\n",
            "| 61|  1| 10|13.37|11.12| 19.5| 8.33| 9.71| 6.54|11.42| 7.79| 8.54|  9.0| 8.58|11.83|\n",
            "| 61|  1| 11|10.58| 9.87| 8.42| 2.79| 8.71| 7.25| 7.54| 8.33| 5.71| 8.67|20.71|16.92|\n",
            "| 61|  1| 12|19.75|12.08| 18.5|10.54|10.29| 9.46|15.54| 11.5|10.37|14.58|15.59|14.09|\n",
            "| 61|  1| 13| 9.92| 3.54| 8.46| 2.96| 2.29| 0.96| 4.63| 0.58| 2.33| 3.37| 5.25| 7.04|\n",
            "| 61|  1| 14| 9.04| 5.66| 7.08| 0.67| 2.71| 1.38| 3.08| 2.58|  0.5| 2.67| 7.17| 5.17|\n",
            "| 61|  1| 15|12.04| 9.67|11.75| 2.37| 7.38| 3.13|  2.5| 6.83| 4.75| 5.63| 7.54| 6.75|\n",
            "| 61|  1| 16|16.42|11.25|15.67| 4.71|11.34| 6.92| 9.25| 8.79| 8.21| 7.33|13.04| 9.04|\n",
            "| 61|  1| 17|17.75|14.37|17.33|10.13|13.96|13.37|13.42|11.04| 8.71|11.38|15.92|16.08|\n",
            "| 61|  1| 18|19.83|12.04|20.79|18.54|  NaN|10.29|17.83|11.38|14.67|16.71| 8.79|17.96|\n",
            "| 61|  1| 19| 4.92| 3.42| 7.29| 1.04| 3.67| 3.17| 3.71| 2.79| 1.92| 2.71| 6.87| 7.83|\n",
            "| 61|  1| 20| 9.59|11.83| 7.96| 1.58| 7.92|  5.0| 3.17| 4.92| 3.13| 3.37|  6.5| 6.79|\n",
            "+---+---+---+-----+-----+-----+-----+-----+-----+-----+-----+-----+-----+-----+-----+\n",
            "only showing top 20 rows\n",
            "\n"
          ]
        }
      ]
    },
    {
      "cell_type": "code",
      "source": [
        "def fun(x):\n",
        "  print(wind.select(F.sum(F.when(F.isnan(F.col(x)) , 1).otherwise(0)).alias(x) ).collect())\n",
        "\n",
        "for i in wind.columns :\n",
        "  fun(i)"
      ],
      "metadata": {
        "colab": {
          "base_uri": "https://localhost:8080/"
        },
        "id": "TB7A2szcHE2q",
        "outputId": "4ae7a2ca-b6e9-472a-f3d6-59262b4a3b0d"
      },
      "execution_count": 140,
      "outputs": [
        {
          "output_type": "stream",
          "name": "stdout",
          "text": [
            "[Row(Yr=0)]\n",
            "[Row(Mo=0)]\n",
            "[Row(Dy=0)]\n",
            "[Row(RPT=6)]\n",
            "[Row(VAL=3)]\n",
            "[Row(ROS=2)]\n",
            "[Row(KIL=5)]\n",
            "[Row(SHA=2)]\n",
            "[Row(BIR=0)]\n",
            "[Row(DUB=3)]\n",
            "[Row(CLA=2)]\n",
            "[Row(MUL=3)]\n",
            "[Row(CLO=1)]\n",
            "[Row(BEL=0)]\n",
            "[Row(MAL=4)]\n"
          ]
        }
      ]
    },
    {
      "cell_type": "code",
      "source": [
        "def fun(x):\n",
        "  print(wind.select(F.sum(F.when(~F.isnan(F.col(x)) , 1).otherwise(0)).alias(x) ).collect())\n",
        "\n",
        "for i in wind.columns :\n",
        "  fun(i)"
      ],
      "metadata": {
        "colab": {
          "base_uri": "https://localhost:8080/"
        },
        "id": "_frHG28YHFAK",
        "outputId": "d2352ebc-0e9c-4678-dcfe-5fe0d401ed69"
      },
      "execution_count": 141,
      "outputs": [
        {
          "output_type": "stream",
          "name": "stdout",
          "text": [
            "[Row(Yr=6574)]\n",
            "[Row(Mo=6574)]\n",
            "[Row(Dy=6574)]\n",
            "[Row(RPT=6568)]\n",
            "[Row(VAL=6571)]\n",
            "[Row(ROS=6572)]\n",
            "[Row(KIL=6569)]\n",
            "[Row(SHA=6572)]\n",
            "[Row(BIR=6574)]\n",
            "[Row(DUB=6571)]\n",
            "[Row(CLA=6572)]\n",
            "[Row(MUL=6571)]\n",
            "[Row(CLO=6573)]\n",
            "[Row(BEL=6574)]\n",
            "[Row(MAL=6570)]\n"
          ]
        }
      ]
    }
  ]
}