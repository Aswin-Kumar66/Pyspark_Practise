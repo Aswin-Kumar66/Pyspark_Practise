{
  "nbformat": 4,
  "nbformat_minor": 0,
  "metadata": {
    "colab": {
      "provenance": [],
      "authorship_tag": "ABX9TyMMm4NaloQt9P8DIlttuTWf",
      "include_colab_link": true
    },
    "kernelspec": {
      "name": "python3",
      "display_name": "Python 3"
    },
    "language_info": {
      "name": "python"
    }
  },
  "cells": [
    {
      "cell_type": "markdown",
      "metadata": {
        "id": "view-in-github",
        "colab_type": "text"
      },
      "source": [
        "<a href=\"https://colab.research.google.com/github/Aswin-Kumar66/Pyspark_Practise/blob/main/Pyspark_Practise_1.ipynb\" target=\"_parent\"><img src=\"https://colab.research.google.com/assets/colab-badge.svg\" alt=\"Open In Colab\"/></a>"
      ]
    },
    {
      "cell_type": "code",
      "execution_count": null,
      "metadata": {
        "colab": {
          "base_uri": "https://localhost:8080/"
        },
        "id": "niQii_Mdk7Hr",
        "outputId": "8db555d0-6bf1-4f84-e66d-feb63afe4cb8"
      },
      "outputs": [
        {
          "output_type": "stream",
          "name": "stdout",
          "text": [
            "Collecting pyspark\n",
            "  Downloading pyspark-3.5.1.tar.gz (317.0 MB)\n",
            "\u001b[2K     \u001b[90m━━━━━━━━━━━━━━━━━━━━━━━━━━━━━━━━━━━━━━━━\u001b[0m \u001b[32m317.0/317.0 MB\u001b[0m \u001b[31m1.4 MB/s\u001b[0m eta \u001b[36m0:00:00\u001b[0m\n",
            "\u001b[?25h  Preparing metadata (setup.py) ... \u001b[?25l\u001b[?25hdone\n",
            "Requirement already satisfied: py4j==0.10.9.7 in /usr/local/lib/python3.10/dist-packages (from pyspark) (0.10.9.7)\n",
            "Building wheels for collected packages: pyspark\n",
            "  Building wheel for pyspark (setup.py) ... \u001b[?25l\u001b[?25hdone\n",
            "  Created wheel for pyspark: filename=pyspark-3.5.1-py2.py3-none-any.whl size=317488491 sha256=603988a637c160c6a28a6250dd9debc1d810969122ad6ceca835e577a7f6cc47\n",
            "  Stored in directory: /root/.cache/pip/wheels/80/1d/60/2c256ed38dddce2fdd93be545214a63e02fbd8d74fb0b7f3a6\n",
            "Successfully built pyspark\n",
            "Installing collected packages: pyspark\n",
            "Successfully installed pyspark-3.5.1\n"
          ]
        }
      ],
      "source": [
        "pip install pyspark"
      ]
    },
    {
      "cell_type": "code",
      "source": [
        "import pyspark\n",
        "from pyspark.sql import SparkSession\n",
        "\n",
        "spark = SparkSession.builder.getOrCreate()"
      ],
      "metadata": {
        "id": "ElxFFi47k-pl"
      },
      "execution_count": 3,
      "outputs": []
    },
    {
      "cell_type": "markdown",
      "source": [
        "## Question 2"
      ],
      "metadata": {
        "id": "u4Lx98QLuvL8"
      }
    },
    {
      "cell_type": "code",
      "source": [
        "df = spark.read.csv('Euro_2012_stats_TEAM.csv' , header = True, inferSchema = True)"
      ],
      "metadata": {
        "id": "cp_cAAksurTp"
      },
      "execution_count": 79,
      "outputs": []
    },
    {
      "cell_type": "code",
      "source": [
        "df.show(5)"
      ],
      "metadata": {
        "colab": {
          "base_uri": "https://localhost:8080/"
        },
        "id": "uiQuJh0Axqlo",
        "outputId": "aa475f6e-1b90-43ba-c98d-c457ccdd1ae0"
      },
      "execution_count": 80,
      "outputs": [
        {
          "output_type": "stream",
          "name": "stdout",
          "text": [
            "+--------------+-----+---------------+----------------+-----------------+----------------+--------------------------+------------+-------------+--------------------+------------+------+----------------+----------------+-------+-------+--------+-------------+-------+----------+-------------+-------------------+------------+------+--------------+----------+--------------------+---------+--------------+--------+------------+---------+-------+--------+------------+\n",
            "|          Team|Goals|Shots on target|Shots off target|Shooting Accuracy|% Goals-to-shots|Total shots (inc. Blocked)|Hit Woodwork|Penalty goals|Penalties not scored|Headed goals|Passes|Passes completed|Passing Accuracy|Touches|Crosses|Dribbles|Corners Taken|Tackles|Clearances|Interceptions|Clearances off line|Clean Sheets|Blocks|Goals conceded|Saves made|Saves-to-shots ratio|Fouls Won|Fouls Conceded|Offsides|Yellow Cards|Red Cards|Subs on|Subs off|Players Used|\n",
            "+--------------+-----+---------------+----------------+-----------------+----------------+--------------------------+------------+-------------+--------------------+------------+------+----------------+----------------+-------+-------+--------+-------------+-------+----------+-------------+-------------------+------------+------+--------------+----------+--------------------+---------+--------------+--------+------------+---------+-------+--------+------------+\n",
            "|       Croatia|    4|             13|              12|            51.9%|           16.0%|                        32|           0|            0|                   0|           2|  1076|             828|           76.9%|   1706|     60|      42|           14|     49|        83|           56|               NULL|           0|    10|             3|        13|               81.3%|       41|            62|       2|           9|        0|      9|       9|          16|\n",
            "|Czech Republic|    4|             13|              18|            41.9%|           12.9%|                        39|           0|            0|                   0|           0|  1565|            1223|           78.1%|   2358|     46|      68|           21|     62|        98|           37|                  2|           1|    10|             6|         9|               60.1%|       53|            73|       8|           7|        0|     11|      11|          19|\n",
            "|       Denmark|    4|             10|              10|            50.0%|           20.0%|                        27|           1|            0|                   0|           3|  1298|            1082|           83.3%|   1873|     43|      32|           16|     40|        61|           59|                  0|           1|    10|             5|        10|               66.7%|       25|            38|       8|           4|        0|      7|       7|          15|\n",
            "|       England|    5|             11|              18|            50.0%|           17.2%|                        40|           0|            0|                   0|           3|  1488|            1200|           80.6%|   2440|     58|      60|           16|     86|       106|           72|                  1|           2|    29|             3|        22|               88.1%|       43|            45|       6|           5|        0|     11|      11|          16|\n",
            "|        France|    3|             22|              24|            37.9%|            6.5%|                        65|           1|            0|                   0|           0|  2066|            1803|           87.2%|   2909|     55|      76|           28|     71|        76|           58|                  0|           1|     7|             5|         6|               54.6%|       36|            51|       5|           6|        0|     11|      11|          19|\n",
            "+--------------+-----+---------------+----------------+-----------------+----------------+--------------------------+------------+-------------+--------------------+------------+------+----------------+----------------+-------+-------+--------+-------------+-------+----------+-------------+-------------------+------------+------+--------------+----------+--------------------+---------+--------------+--------+------------+---------+-------+--------+------------+\n",
            "only showing top 5 rows\n",
            "\n"
          ]
        }
      ]
    },
    {
      "cell_type": "code",
      "source": [
        "df.select('Goals').show()"
      ],
      "metadata": {
        "colab": {
          "base_uri": "https://localhost:8080/"
        },
        "id": "CwFVYgtxxsvR",
        "outputId": "73b7dc5f-2d2e-4292-b49b-45a3e9b80ee4"
      },
      "execution_count": 82,
      "outputs": [
        {
          "output_type": "stream",
          "name": "stdout",
          "text": [
            "+-----+\n",
            "|Goals|\n",
            "+-----+\n",
            "|    4|\n",
            "|    4|\n",
            "|    4|\n",
            "|    5|\n",
            "|    3|\n",
            "|   10|\n",
            "|    5|\n",
            "|    6|\n",
            "|    2|\n",
            "|    2|\n",
            "|    6|\n",
            "|    1|\n",
            "|    5|\n",
            "|   12|\n",
            "|    5|\n",
            "|    2|\n",
            "+-----+\n",
            "\n"
          ]
        }
      ]
    },
    {
      "cell_type": "code",
      "source": [
        "df.count()"
      ],
      "metadata": {
        "colab": {
          "base_uri": "https://localhost:8080/"
        },
        "id": "3ubxf2AIx3k9",
        "outputId": "5d1e8745-7c19-4d91-f87d-ed4ab729e521"
      },
      "execution_count": 83,
      "outputs": [
        {
          "output_type": "execute_result",
          "data": {
            "text/plain": [
              "16"
            ]
          },
          "metadata": {},
          "execution_count": 83
        }
      ]
    },
    {
      "cell_type": "code",
      "source": [
        "len(df.columns)"
      ],
      "metadata": {
        "colab": {
          "base_uri": "https://localhost:8080/"
        },
        "id": "MvjAZ1qYx8qz",
        "outputId": "86a7c9f5-643f-4a31-94d4-ac2ddc6e2fb8"
      },
      "execution_count": 84,
      "outputs": [
        {
          "output_type": "execute_result",
          "data": {
            "text/plain": [
              "35"
            ]
          },
          "metadata": {},
          "execution_count": 84
        }
      ]
    },
    {
      "cell_type": "code",
      "source": [
        "discipline = df.select(['Team', 'Yellow Cards', 'Red Cards'])\n",
        "discipline.show()"
      ],
      "metadata": {
        "colab": {
          "base_uri": "https://localhost:8080/"
        },
        "id": "FwI7_y8ox_3a",
        "outputId": "7a841351-705f-4502-ee28-909e89c19006"
      },
      "execution_count": 86,
      "outputs": [
        {
          "output_type": "stream",
          "name": "stdout",
          "text": [
            "+-------------------+------------+---------+\n",
            "|               Team|Yellow Cards|Red Cards|\n",
            "+-------------------+------------+---------+\n",
            "|            Croatia|           9|        0|\n",
            "|     Czech Republic|           7|        0|\n",
            "|            Denmark|           4|        0|\n",
            "|            England|           5|        0|\n",
            "|             France|           6|        0|\n",
            "|            Germany|           4|        0|\n",
            "|             Greece|           9|        1|\n",
            "|              Italy|          16|        0|\n",
            "|        Netherlands|           5|        0|\n",
            "|             Poland|           7|        1|\n",
            "|           Portugal|          12|        0|\n",
            "|Republic of Ireland|           6|        1|\n",
            "|             Russia|           6|        0|\n",
            "|              Spain|          11|        0|\n",
            "|             Sweden|           7|        0|\n",
            "|            Ukraine|           5|        0|\n",
            "+-------------------+------------+---------+\n",
            "\n"
          ]
        }
      ]
    },
    {
      "cell_type": "code",
      "source": [
        "discipline.sort(['Yellow Cards', 'Red Cards']).show()"
      ],
      "metadata": {
        "colab": {
          "base_uri": "https://localhost:8080/"
        },
        "id": "ihnQtaAtx__s",
        "outputId": "aa45b20c-559f-481b-87af-90e54ca3f5a8"
      },
      "execution_count": 87,
      "outputs": [
        {
          "output_type": "stream",
          "name": "stdout",
          "text": [
            "+-------------------+------------+---------+\n",
            "|               Team|Yellow Cards|Red Cards|\n",
            "+-------------------+------------+---------+\n",
            "|            Denmark|           4|        0|\n",
            "|            Germany|           4|        0|\n",
            "|            England|           5|        0|\n",
            "|        Netherlands|           5|        0|\n",
            "|            Ukraine|           5|        0|\n",
            "|             France|           6|        0|\n",
            "|             Russia|           6|        0|\n",
            "|Republic of Ireland|           6|        1|\n",
            "|     Czech Republic|           7|        0|\n",
            "|             Sweden|           7|        0|\n",
            "|             Poland|           7|        1|\n",
            "|            Croatia|           9|        0|\n",
            "|             Greece|           9|        1|\n",
            "|              Spain|          11|        0|\n",
            "|           Portugal|          12|        0|\n",
            "|              Italy|          16|        0|\n",
            "+-------------------+------------+---------+\n",
            "\n"
          ]
        }
      ]
    },
    {
      "cell_type": "code",
      "source": [
        "discipline.select('Yellow Cards').describe().show()"
      ],
      "metadata": {
        "colab": {
          "base_uri": "https://localhost:8080/"
        },
        "id": "iQlkCpWtyaFy",
        "outputId": "53b8aef4-12c0-453c-89c8-3f019cad7af8"
      },
      "execution_count": 88,
      "outputs": [
        {
          "output_type": "stream",
          "name": "stdout",
          "text": [
            "+-------+-----------------+\n",
            "|summary|     Yellow Cards|\n",
            "+-------+-----------------+\n",
            "|  count|               16|\n",
            "|   mean|           7.4375|\n",
            "| stddev|3.265348373451139|\n",
            "|    min|                4|\n",
            "|    max|               16|\n",
            "+-------+-----------------+\n",
            "\n"
          ]
        }
      ]
    },
    {
      "cell_type": "code",
      "source": [
        "df.filter(df.Goals > 6).show()"
      ],
      "metadata": {
        "colab": {
          "base_uri": "https://localhost:8080/"
        },
        "id": "DM-U54f0yaM9",
        "outputId": "e55191dd-c5e9-4d75-8660-433e35dd5b25"
      },
      "execution_count": 89,
      "outputs": [
        {
          "output_type": "stream",
          "name": "stdout",
          "text": [
            "+-------+-----+---------------+----------------+-----------------+----------------+--------------------------+------------+-------------+--------------------+------------+------+----------------+----------------+-------+-------+--------+-------------+-------+----------+-------------+-------------------+------------+------+--------------+----------+--------------------+---------+--------------+--------+------------+---------+-------+--------+------------+\n",
            "|   Team|Goals|Shots on target|Shots off target|Shooting Accuracy|% Goals-to-shots|Total shots (inc. Blocked)|Hit Woodwork|Penalty goals|Penalties not scored|Headed goals|Passes|Passes completed|Passing Accuracy|Touches|Crosses|Dribbles|Corners Taken|Tackles|Clearances|Interceptions|Clearances off line|Clean Sheets|Blocks|Goals conceded|Saves made|Saves-to-shots ratio|Fouls Won|Fouls Conceded|Offsides|Yellow Cards|Red Cards|Subs on|Subs off|Players Used|\n",
            "+-------+-----+---------------+----------------+-----------------+----------------+--------------------------+------------+-------------+--------------------+------------+------+----------------+----------------+-------+-------+--------+-------------+-------+----------+-------------+-------------------+------------+------+--------------+----------+--------------------+---------+--------------+--------+------------+---------+-------+--------+------------+\n",
            "|Germany|   10|             32|              32|            47.8%|           15.6%|                        80|           2|            1|                   0|           2|  2774|            2427|           87.4%|   3761|    101|      60|           35|     91|        73|           69|                  0|           1|    11|             6|        10|               62.6%|       63|            49|      12|           4|        0|     15|      15|          17|\n",
            "|  Spain|   12|             42|              33|            55.9%|           16.0%|                       100|           0|            1|                   0|           2|  4317|            3820|           88.4%|   5585|     69|     106|           44|    122|       102|           79|                  0|           5|     8|             1|        15|               93.8%|      102|            83|      19|          11|        0|     17|      17|          18|\n",
            "+-------+-----+---------------+----------------+-----------------+----------------+--------------------------+------------+-------------+--------------------+------------+------+----------------+----------------+-------+-------+--------+-------------+-------+----------+-------------+-------------------+------------+------+--------------+----------+--------------------+---------+--------------+--------+------------+---------+-------+--------+------------+\n",
            "\n"
          ]
        }
      ]
    },
    {
      "cell_type": "code",
      "source": [
        "from pyspark.sql import functions as F\n"
      ],
      "metadata": {
        "id": "14_XplYwz_uB"
      },
      "execution_count": 99,
      "outputs": []
    },
    {
      "cell_type": "code",
      "source": [
        "df.filter(F.col('Team').startswith('G')).show()"
      ],
      "metadata": {
        "colab": {
          "base_uri": "https://localhost:8080/"
        },
        "id": "DvWTnidyyaTG",
        "outputId": "a5242e2e-4645-4f2f-d3b9-a8d96fbb32bb"
      },
      "execution_count": 102,
      "outputs": [
        {
          "output_type": "stream",
          "name": "stdout",
          "text": [
            "+-------+-----+---------------+----------------+-----------------+----------------+--------------------------+------------+-------------+--------------------+------------+------+----------------+----------------+-------+-------+--------+-------------+-------+----------+-------------+-------------------+------------+------+--------------+----------+--------------------+---------+--------------+--------+------------+---------+-------+--------+------------+\n",
            "|   Team|Goals|Shots on target|Shots off target|Shooting Accuracy|% Goals-to-shots|Total shots (inc. Blocked)|Hit Woodwork|Penalty goals|Penalties not scored|Headed goals|Passes|Passes completed|Passing Accuracy|Touches|Crosses|Dribbles|Corners Taken|Tackles|Clearances|Interceptions|Clearances off line|Clean Sheets|Blocks|Goals conceded|Saves made|Saves-to-shots ratio|Fouls Won|Fouls Conceded|Offsides|Yellow Cards|Red Cards|Subs on|Subs off|Players Used|\n",
            "+-------+-----+---------------+----------------+-----------------+----------------+--------------------------+------------+-------------+--------------------+------------+------+----------------+----------------+-------+-------+--------+-------------+-------+----------+-------------+-------------------+------------+------+--------------+----------+--------------------+---------+--------------+--------+------------+---------+-------+--------+------------+\n",
            "|Germany|   10|             32|              32|            47.8%|           15.6%|                        80|           2|            1|                   0|           2|  2774|            2427|           87.4%|   3761|    101|      60|           35|     91|        73|           69|                  0|           1|    11|             6|        10|               62.6%|       63|            49|      12|           4|        0|     15|      15|          17|\n",
            "| Greece|    5|              8|              18|            30.7%|           19.2%|                        32|           1|            1|                   1|           0|  1187|             911|           76.7%|   2016|     52|      53|           10|     65|       123|           87|                  0|           1|    23|             7|        13|               65.1%|       67|            48|      12|           9|        1|     12|      12|          20|\n",
            "+-------+-----+---------------+----------------+-----------------+----------------+--------------------------+------------+-------------+--------------------+------------+------+----------------+----------------+-------+-------+--------+-------------+-------+----------+-------------+-------------------+------------+------+--------------+----------+--------------------+---------+--------------+--------+------------+---------+-------+--------+------------+\n",
            "\n"
          ]
        }
      ]
    },
    {
      "cell_type": "code",
      "source": [
        "df.select(df.columns[:6]).show()"
      ],
      "metadata": {
        "colab": {
          "base_uri": "https://localhost:8080/"
        },
        "id": "jP8-84NXyaX_",
        "outputId": "66564689-9452-4fc3-d12b-c8b640717ffd"
      },
      "execution_count": 112,
      "outputs": [
        {
          "output_type": "stream",
          "name": "stdout",
          "text": [
            "+-------------------+-----+---------------+----------------+-----------------+----------------+\n",
            "|               Team|Goals|Shots on target|Shots off target|Shooting Accuracy|% Goals-to-shots|\n",
            "+-------------------+-----+---------------+----------------+-----------------+----------------+\n",
            "|            Croatia|    4|             13|              12|            51.9%|           16.0%|\n",
            "|     Czech Republic|    4|             13|              18|            41.9%|           12.9%|\n",
            "|            Denmark|    4|             10|              10|            50.0%|           20.0%|\n",
            "|            England|    5|             11|              18|            50.0%|           17.2%|\n",
            "|             France|    3|             22|              24|            37.9%|            6.5%|\n",
            "|            Germany|   10|             32|              32|            47.8%|           15.6%|\n",
            "|             Greece|    5|              8|              18|            30.7%|           19.2%|\n",
            "|              Italy|    6|             34|              45|            43.0%|            7.5%|\n",
            "|        Netherlands|    2|             12|              36|            25.0%|            4.1%|\n",
            "|             Poland|    2|             15|              23|            39.4%|            5.2%|\n",
            "|           Portugal|    6|             22|              42|            34.3%|            9.3%|\n",
            "|Republic of Ireland|    1|              7|              12|            36.8%|            5.2%|\n",
            "|             Russia|    5|              9|              31|            22.5%|           12.5%|\n",
            "|              Spain|   12|             42|              33|            55.9%|           16.0%|\n",
            "|             Sweden|    5|             17|              19|            47.2%|           13.8%|\n",
            "|            Ukraine|    2|              7|              26|            21.2%|            6.0%|\n",
            "+-------------------+-----+---------------+----------------+-----------------+----------------+\n",
            "\n"
          ]
        }
      ]
    },
    {
      "cell_type": "code",
      "source": [
        "df.select(['Team','Shooting Accuracy']).filter(F.col('Team').isin(['Italy' , 'Russia' , 'England'])).show()"
      ],
      "metadata": {
        "colab": {
          "base_uri": "https://localhost:8080/"
        },
        "id": "5lMsGheJyacb",
        "outputId": "37c50c9c-0277-4ecc-a344-be9ea11ceb9b"
      },
      "execution_count": 129,
      "outputs": [
        {
          "output_type": "stream",
          "name": "stdout",
          "text": [
            "+-------+-----------------+\n",
            "|   Team|Shooting Accuracy|\n",
            "+-------+-----------------+\n",
            "|England|            50.0%|\n",
            "|  Italy|            43.0%|\n",
            "| Russia|            22.5%|\n",
            "+-------+-----------------+\n",
            "\n"
          ]
        }
      ]
    }
  ]
}