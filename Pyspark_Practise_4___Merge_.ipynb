{
  "nbformat": 4,
  "nbformat_minor": 0,
  "metadata": {
    "colab": {
      "provenance": [],
      "authorship_tag": "ABX9TyNKp4CPX+stv3peUiKdvFHZ",
      "include_colab_link": true
    },
    "kernelspec": {
      "name": "python3",
      "display_name": "Python 3"
    },
    "language_info": {
      "name": "python"
    }
  },
  "cells": [
    {
      "cell_type": "markdown",
      "metadata": {
        "id": "view-in-github",
        "colab_type": "text"
      },
      "source": [
        "<a href=\"https://colab.research.google.com/github/Aswin-Kumar66/Pyspark_Practise/blob/main/Pyspark_Practise_4___Merge_.ipynb\" target=\"_parent\"><img src=\"https://colab.research.google.com/assets/colab-badge.svg\" alt=\"Open In Colab\"/></a>"
      ]
    },
    {
      "cell_type": "code",
      "execution_count": 2,
      "metadata": {
        "colab": {
          "base_uri": "https://localhost:8080/"
        },
        "id": "niQii_Mdk7Hr",
        "outputId": "eb75dd1c-9d0c-46fc-ec93-505dab5bc23e"
      },
      "outputs": [
        {
          "output_type": "stream",
          "name": "stdout",
          "text": [
            "Collecting pyspark\n",
            "  Downloading pyspark-3.5.1.tar.gz (317.0 MB)\n",
            "\u001b[2K     \u001b[90m━━━━━━━━━━━━━━━━━━━━━━━━━━━━━━━━━━━━━━━━\u001b[0m \u001b[32m317.0/317.0 MB\u001b[0m \u001b[31m2.5 MB/s\u001b[0m eta \u001b[36m0:00:00\u001b[0m\n",
            "\u001b[?25h  Preparing metadata (setup.py) ... \u001b[?25l\u001b[?25hdone\n",
            "Requirement already satisfied: py4j==0.10.9.7 in /usr/local/lib/python3.10/dist-packages (from pyspark) (0.10.9.7)\n",
            "Building wheels for collected packages: pyspark\n",
            "  Building wheel for pyspark (setup.py) ... \u001b[?25l\u001b[?25hdone\n",
            "  Created wheel for pyspark: filename=pyspark-3.5.1-py2.py3-none-any.whl size=317488491 sha256=84f459a1fa68de58192e0c5db8b4266e14f99aa371862ad6071519048fd1df3f\n",
            "  Stored in directory: /root/.cache/pip/wheels/80/1d/60/2c256ed38dddce2fdd93be545214a63e02fbd8d74fb0b7f3a6\n",
            "Successfully built pyspark\n",
            "Installing collected packages: pyspark\n",
            "Successfully installed pyspark-3.5.1\n"
          ]
        }
      ],
      "source": [
        "pip install pyspark"
      ]
    },
    {
      "cell_type": "code",
      "source": [
        "import pyspark\n",
        "from pyspark.sql import SparkSession\n",
        "from pyspark.sql import functions as F\n",
        "\n",
        "spark = SparkSession.builder.getOrCreate()"
      ],
      "metadata": {
        "id": "ElxFFi47k-pl"
      },
      "execution_count": 3,
      "outputs": []
    },
    {
      "cell_type": "markdown",
      "source": [
        "## Question 6"
      ],
      "metadata": {
        "id": "KHIb6vUIzaho"
      }
    },
    {
      "cell_type": "code",
      "source": [
        "cars1 = spark.read.csv('cars1.csv' , header = True , inferSchema = True)\n",
        "cars2 = spark.read.csv('cars2.csv' , header = True , inferSchema = True)"
      ],
      "metadata": {
        "id": "Iir9Tyk5zeYh"
      },
      "execution_count": 4,
      "outputs": []
    },
    {
      "cell_type": "code",
      "source": [
        "cars1.show()"
      ],
      "metadata": {
        "colab": {
          "base_uri": "https://localhost:8080/"
        },
        "id": "DHGzKMbvznt4",
        "outputId": "1631171e-dc90-4aa7-8db5-08d0e21d3e9c"
      },
      "execution_count": 8,
      "outputs": [
        {
          "output_type": "stream",
          "name": "stdout",
          "text": [
            "+----+---------+------------+----------+------+------------+-----+------+--------------------+\n",
            "| mpg|cylinders|displacement|horsepower|weight|acceleration|model|origin|                 car|\n",
            "+----+---------+------------+----------+------+------------+-----+------+--------------------+\n",
            "|18.0|        8|         307|       130|  3504|        12.0|   70|     1|chevrolet chevell...|\n",
            "|15.0|        8|         350|       165|  3693|        11.5|   70|     1|   buick skylark 320|\n",
            "|18.0|        8|         318|       150|  3436|        11.0|   70|     1|  plymouth satellite|\n",
            "|16.0|        8|         304|       150|  3433|        12.0|   70|     1|       amc rebel sst|\n",
            "|17.0|        8|         302|       140|  3449|        10.5|   70|     1|         ford torino|\n",
            "|15.0|        8|         429|       198|  4341|        10.0|   70|     1|    ford galaxie 500|\n",
            "|14.0|        8|         454|       220|  4354|         9.0|   70|     1|    chevrolet impala|\n",
            "|14.0|        8|         440|       215|  4312|         8.5|   70|     1|   plymouth fury iii|\n",
            "|14.0|        8|         455|       225|  4425|        10.0|   70|     1|    pontiac catalina|\n",
            "|15.0|        8|         390|       190|  3850|         8.5|   70|     1|  amc ambassador dpl|\n",
            "|15.0|        8|         383|       170|  3563|        10.0|   70|     1| dodge challenger se|\n",
            "|14.0|        8|         340|       160|  3609|         8.0|   70|     1|  plymouth 'cuda 340|\n",
            "|15.0|        8|         400|       150|  3761|         9.5|   70|     1|chevrolet monte c...|\n",
            "|14.0|        8|         455|       225|  3086|        10.0|   70|     1|buick estate wago...|\n",
            "|24.0|        4|         113|        95|  2372|        15.0|   70|     3|toyota corona mar...|\n",
            "|22.0|        6|         198|        95|  2833|        15.5|   70|     1|     plymouth duster|\n",
            "|18.0|        6|         199|        97|  2774|        15.5|   70|     1|          amc hornet|\n",
            "|21.0|        6|         200|        85|  2587|        16.0|   70|     1|       ford maverick|\n",
            "|27.0|        4|          97|        88|  2130|        14.5|   70|     3|        datsun pl510|\n",
            "|26.0|        4|          97|        46|  1835|        20.5|   70|     2|volkswagen 1131 d...|\n",
            "+----+---------+------------+----------+------+------------+-----+------+--------------------+\n",
            "only showing top 20 rows\n",
            "\n"
          ]
        }
      ]
    },
    {
      "cell_type": "code",
      "source": [
        "cars2.show()"
      ],
      "metadata": {
        "colab": {
          "base_uri": "https://localhost:8080/"
        },
        "id": "KDd-Of1aznyG",
        "outputId": "24772413-2151-46b1-f289-9ca6332d2b60"
      },
      "execution_count": 6,
      "outputs": [
        {
          "output_type": "stream",
          "name": "stdout",
          "text": [
            "+----+---------+------------+----------+------+------------+-----+------+--------------------+\n",
            "| mpg|cylinders|displacement|horsepower|weight|acceleration|model|origin|                 car|\n",
            "+----+---------+------------+----------+------+------------+-----+------+--------------------+\n",
            "|33.0|        4|          91|        53|  1795|        17.4|   76|     3|         honda civic|\n",
            "|20.0|        6|         225|       100|  3651|        17.7|   76|     1|      dodge aspen se|\n",
            "|18.0|        6|         250|        78|  3574|        21.0|   76|     1|   ford granada ghia|\n",
            "|18.5|        6|         250|       110|  3645|        16.2|   76|     1|  pontiac ventura sj|\n",
            "|17.5|        6|         258|        95|  3193|        17.8|   76|     1|       amc pacer d/l|\n",
            "|29.5|        4|          97|        71|  1825|        12.2|   76|     2|   volkswagen rabbit|\n",
            "|32.0|        4|          85|        70|  1990|        17.0|   76|     3|        datsun b-210|\n",
            "|28.0|        4|          97|        75|  2155|        16.4|   76|     3|      toyota corolla|\n",
            "|26.5|        4|         140|        72|  2565|        13.6|   76|     1|          ford pinto|\n",
            "|20.0|        4|         130|       102|  3150|        15.7|   76|     2|           volvo 245|\n",
            "|13.0|        8|         318|       150|  3940|        13.2|   76|     1|plymouth volare p...|\n",
            "|19.0|        4|         120|        88|  3270|        21.9|   76|     2|         peugeot 504|\n",
            "|19.0|        6|         156|       108|  2930|        15.5|   76|     3|      toyota mark ii|\n",
            "|16.5|        6|         168|       120|  3820|        16.7|   76|     2|  mercedes-benz 280s|\n",
            "|16.5|        8|         350|       180|  4380|        12.1|   76|     1|    cadillac seville|\n",
            "|13.0|        8|         350|       145|  4055|        12.0|   76|     1|           chevy c10|\n",
            "|13.0|        8|         302|       130|  3870|        15.0|   76|     1|           ford f108|\n",
            "|13.0|        8|         318|       150|  3755|        14.0|   76|     1|          dodge d100|\n",
            "|31.5|        4|          98|        68|  2045|        18.5|   77|     3|   honda accord cvcc|\n",
            "|30.0|        4|         111|        80|  2155|        14.8|   77|     1|buick opel isuzu ...|\n",
            "+----+---------+------------+----------+------+------------+-----+------+--------------------+\n",
            "only showing top 20 rows\n",
            "\n"
          ]
        }
      ]
    },
    {
      "cell_type": "code",
      "source": [
        "cars1 = cars1.select(cars1.columns[0:9])\n",
        "cars1.show()"
      ],
      "metadata": {
        "colab": {
          "base_uri": "https://localhost:8080/"
        },
        "id": "Bh00Y1VNzn2B",
        "outputId": "cd43fb1d-0933-4d45-8bd8-05353e3dbf17"
      },
      "execution_count": 7,
      "outputs": [
        {
          "output_type": "stream",
          "name": "stdout",
          "text": [
            "+----+---------+------------+----------+------+------------+-----+------+--------------------+\n",
            "| mpg|cylinders|displacement|horsepower|weight|acceleration|model|origin|                 car|\n",
            "+----+---------+------------+----------+------+------------+-----+------+--------------------+\n",
            "|18.0|        8|         307|       130|  3504|        12.0|   70|     1|chevrolet chevell...|\n",
            "|15.0|        8|         350|       165|  3693|        11.5|   70|     1|   buick skylark 320|\n",
            "|18.0|        8|         318|       150|  3436|        11.0|   70|     1|  plymouth satellite|\n",
            "|16.0|        8|         304|       150|  3433|        12.0|   70|     1|       amc rebel sst|\n",
            "|17.0|        8|         302|       140|  3449|        10.5|   70|     1|         ford torino|\n",
            "|15.0|        8|         429|       198|  4341|        10.0|   70|     1|    ford galaxie 500|\n",
            "|14.0|        8|         454|       220|  4354|         9.0|   70|     1|    chevrolet impala|\n",
            "|14.0|        8|         440|       215|  4312|         8.5|   70|     1|   plymouth fury iii|\n",
            "|14.0|        8|         455|       225|  4425|        10.0|   70|     1|    pontiac catalina|\n",
            "|15.0|        8|         390|       190|  3850|         8.5|   70|     1|  amc ambassador dpl|\n",
            "|15.0|        8|         383|       170|  3563|        10.0|   70|     1| dodge challenger se|\n",
            "|14.0|        8|         340|       160|  3609|         8.0|   70|     1|  plymouth 'cuda 340|\n",
            "|15.0|        8|         400|       150|  3761|         9.5|   70|     1|chevrolet monte c...|\n",
            "|14.0|        8|         455|       225|  3086|        10.0|   70|     1|buick estate wago...|\n",
            "|24.0|        4|         113|        95|  2372|        15.0|   70|     3|toyota corona mar...|\n",
            "|22.0|        6|         198|        95|  2833|        15.5|   70|     1|     plymouth duster|\n",
            "|18.0|        6|         199|        97|  2774|        15.5|   70|     1|          amc hornet|\n",
            "|21.0|        6|         200|        85|  2587|        16.0|   70|     1|       ford maverick|\n",
            "|27.0|        4|          97|        88|  2130|        14.5|   70|     3|        datsun pl510|\n",
            "|26.0|        4|          97|        46|  1835|        20.5|   70|     2|volkswagen 1131 d...|\n",
            "+----+---------+------------+----------+------+------------+-----+------+--------------------+\n",
            "only showing top 20 rows\n",
            "\n"
          ]
        }
      ]
    },
    {
      "cell_type": "code",
      "source": [
        "print(cars1.count())\n",
        "print(cars2.count())"
      ],
      "metadata": {
        "colab": {
          "base_uri": "https://localhost:8080/"
        },
        "id": "GL0q30_Mzn6G",
        "outputId": "12fa8dcc-e3ac-4a86-d113-2004f114a039"
      },
      "execution_count": 10,
      "outputs": [
        {
          "output_type": "stream",
          "name": "stdout",
          "text": [
            "198\n",
            "200\n"
          ]
        }
      ]
    },
    {
      "cell_type": "code",
      "source": [
        "cars = cars1.union(cars2)\n",
        "cars.show()"
      ],
      "metadata": {
        "colab": {
          "base_uri": "https://localhost:8080/"
        },
        "id": "g03deRam0arg",
        "outputId": "6a579c1e-9217-4359-b448-8334cfe75bcc"
      },
      "execution_count": 11,
      "outputs": [
        {
          "output_type": "stream",
          "name": "stdout",
          "text": [
            "+----+---------+------------+----------+------+------------+-----+------+--------------------+\n",
            "| mpg|cylinders|displacement|horsepower|weight|acceleration|model|origin|                 car|\n",
            "+----+---------+------------+----------+------+------------+-----+------+--------------------+\n",
            "|18.0|        8|         307|       130|  3504|        12.0|   70|     1|chevrolet chevell...|\n",
            "|15.0|        8|         350|       165|  3693|        11.5|   70|     1|   buick skylark 320|\n",
            "|18.0|        8|         318|       150|  3436|        11.0|   70|     1|  plymouth satellite|\n",
            "|16.0|        8|         304|       150|  3433|        12.0|   70|     1|       amc rebel sst|\n",
            "|17.0|        8|         302|       140|  3449|        10.5|   70|     1|         ford torino|\n",
            "|15.0|        8|         429|       198|  4341|        10.0|   70|     1|    ford galaxie 500|\n",
            "|14.0|        8|         454|       220|  4354|         9.0|   70|     1|    chevrolet impala|\n",
            "|14.0|        8|         440|       215|  4312|         8.5|   70|     1|   plymouth fury iii|\n",
            "|14.0|        8|         455|       225|  4425|        10.0|   70|     1|    pontiac catalina|\n",
            "|15.0|        8|         390|       190|  3850|         8.5|   70|     1|  amc ambassador dpl|\n",
            "|15.0|        8|         383|       170|  3563|        10.0|   70|     1| dodge challenger se|\n",
            "|14.0|        8|         340|       160|  3609|         8.0|   70|     1|  plymouth 'cuda 340|\n",
            "|15.0|        8|         400|       150|  3761|         9.5|   70|     1|chevrolet monte c...|\n",
            "|14.0|        8|         455|       225|  3086|        10.0|   70|     1|buick estate wago...|\n",
            "|24.0|        4|         113|        95|  2372|        15.0|   70|     3|toyota corona mar...|\n",
            "|22.0|        6|         198|        95|  2833|        15.5|   70|     1|     plymouth duster|\n",
            "|18.0|        6|         199|        97|  2774|        15.5|   70|     1|          amc hornet|\n",
            "|21.0|        6|         200|        85|  2587|        16.0|   70|     1|       ford maverick|\n",
            "|27.0|        4|          97|        88|  2130|        14.5|   70|     3|        datsun pl510|\n",
            "|26.0|        4|          97|        46|  1835|        20.5|   70|     2|volkswagen 1131 d...|\n",
            "+----+---------+------------+----------+------+------------+-----+------+--------------------+\n",
            "only showing top 20 rows\n",
            "\n"
          ]
        }
      ]
    },
    {
      "cell_type": "code",
      "source": [
        "cars.count()"
      ],
      "metadata": {
        "colab": {
          "base_uri": "https://localhost:8080/"
        },
        "id": "z3Q_eJdR0jLR",
        "outputId": "8521bce0-de9f-42f7-af72-8ba9676c39a4"
      },
      "execution_count": 12,
      "outputs": [
        {
          "output_type": "execute_result",
          "data": {
            "text/plain": [
              "398"
            ]
          },
          "metadata": {},
          "execution_count": 12
        }
      ]
    },
    {
      "cell_type": "code",
      "source": [
        "cars.withColumn('owner' , F.round((F.rand()*60 + 15)*1000) ).show()"
      ],
      "metadata": {
        "colab": {
          "base_uri": "https://localhost:8080/"
        },
        "id": "94iWIvka0jyl",
        "outputId": "362534ff-3885-49b8-8a5c-634411815bb5"
      },
      "execution_count": 28,
      "outputs": [
        {
          "output_type": "stream",
          "name": "stdout",
          "text": [
            "+----+---------+------------+----------+------+------------+-----+------+--------------------+-------+\n",
            "| mpg|cylinders|displacement|horsepower|weight|acceleration|model|origin|                 car|  owner|\n",
            "+----+---------+------------+----------+------+------------+-----+------+--------------------+-------+\n",
            "|18.0|        8|         307|       130|  3504|        12.0|   70|     1|chevrolet chevell...|42429.0|\n",
            "|15.0|        8|         350|       165|  3693|        11.5|   70|     1|   buick skylark 320|58995.0|\n",
            "|18.0|        8|         318|       150|  3436|        11.0|   70|     1|  plymouth satellite|24011.0|\n",
            "|16.0|        8|         304|       150|  3433|        12.0|   70|     1|       amc rebel sst|55701.0|\n",
            "|17.0|        8|         302|       140|  3449|        10.5|   70|     1|         ford torino|16937.0|\n",
            "|15.0|        8|         429|       198|  4341|        10.0|   70|     1|    ford galaxie 500|43658.0|\n",
            "|14.0|        8|         454|       220|  4354|         9.0|   70|     1|    chevrolet impala|37655.0|\n",
            "|14.0|        8|         440|       215|  4312|         8.5|   70|     1|   plymouth fury iii|32559.0|\n",
            "|14.0|        8|         455|       225|  4425|        10.0|   70|     1|    pontiac catalina|28859.0|\n",
            "|15.0|        8|         390|       190|  3850|         8.5|   70|     1|  amc ambassador dpl|64827.0|\n",
            "|15.0|        8|         383|       170|  3563|        10.0|   70|     1| dodge challenger se|15431.0|\n",
            "|14.0|        8|         340|       160|  3609|         8.0|   70|     1|  plymouth 'cuda 340|53661.0|\n",
            "|15.0|        8|         400|       150|  3761|         9.5|   70|     1|chevrolet monte c...|71696.0|\n",
            "|14.0|        8|         455|       225|  3086|        10.0|   70|     1|buick estate wago...|71842.0|\n",
            "|24.0|        4|         113|        95|  2372|        15.0|   70|     3|toyota corona mar...|32990.0|\n",
            "|22.0|        6|         198|        95|  2833|        15.5|   70|     1|     plymouth duster|57880.0|\n",
            "|18.0|        6|         199|        97|  2774|        15.5|   70|     1|          amc hornet|23141.0|\n",
            "|21.0|        6|         200|        85|  2587|        16.0|   70|     1|       ford maverick|67212.0|\n",
            "|27.0|        4|          97|        88|  2130|        14.5|   70|     3|        datsun pl510|70039.0|\n",
            "|26.0|        4|          97|        46|  1835|        20.5|   70|     2|volkswagen 1131 d...|48218.0|\n",
            "+----+---------+------------+----------+------+------------+-----+------+--------------------+-------+\n",
            "only showing top 20 rows\n",
            "\n"
          ]
        }
      ]
    }
  ]
}