{
  "nbformat": 4,
  "nbformat_minor": 0,
  "metadata": {
    "colab": {
      "provenance": [],
      "authorship_tag": "ABX9TyOdDV8hd1PjROxy/tMcYtYK",
      "include_colab_link": true
    },
    "kernelspec": {
      "name": "python3",
      "display_name": "Python 3"
    },
    "language_info": {
      "name": "python"
    }
  },
  "cells": [
    {
      "cell_type": "markdown",
      "metadata": {
        "id": "view-in-github",
        "colab_type": "text"
      },
      "source": [
        "<a href=\"https://colab.research.google.com/github/Aswin-Kumar66/Pyspark_Practise/blob/main/Pyspark_Practise_2___Grouping_.ipynb\" target=\"_parent\"><img src=\"https://colab.research.google.com/assets/colab-badge.svg\" alt=\"Open In Colab\"/></a>"
      ]
    },
    {
      "cell_type": "code",
      "execution_count": 2,
      "metadata": {
        "colab": {
          "base_uri": "https://localhost:8080/"
        },
        "id": "niQii_Mdk7Hr",
        "outputId": "6be2e3ff-2e78-4032-f610-43eab1a240b0"
      },
      "outputs": [
        {
          "output_type": "stream",
          "name": "stdout",
          "text": [
            "Collecting pyspark\n",
            "  Downloading pyspark-3.5.1.tar.gz (317.0 MB)\n",
            "\u001b[2K     \u001b[90m━━━━━━━━━━━━━━━━━━━━━━━━━━━━━━━━━━━━━━━━\u001b[0m \u001b[32m317.0/317.0 MB\u001b[0m \u001b[31m2.6 MB/s\u001b[0m eta \u001b[36m0:00:00\u001b[0m\n",
            "\u001b[?25h  Preparing metadata (setup.py) ... \u001b[?25l\u001b[?25hdone\n",
            "Requirement already satisfied: py4j==0.10.9.7 in /usr/local/lib/python3.10/dist-packages (from pyspark) (0.10.9.7)\n",
            "Building wheels for collected packages: pyspark\n",
            "  Building wheel for pyspark (setup.py) ... \u001b[?25l\u001b[?25hdone\n",
            "  Created wheel for pyspark: filename=pyspark-3.5.1-py2.py3-none-any.whl size=317488491 sha256=65c5fcca19aec84490e81bcf035c5be19278b6709d46a3881b28416496f5412d\n",
            "  Stored in directory: /root/.cache/pip/wheels/80/1d/60/2c256ed38dddce2fdd93be545214a63e02fbd8d74fb0b7f3a6\n",
            "Successfully built pyspark\n",
            "Installing collected packages: pyspark\n",
            "Successfully installed pyspark-3.5.1\n"
          ]
        }
      ],
      "source": [
        "pip install pyspark"
      ]
    },
    {
      "cell_type": "code",
      "source": [
        "import pyspark\n",
        "from pyspark.sql import SparkSession\n",
        "from pyspark.sql import functions as F\n",
        "\n",
        "spark = SparkSession.builder.getOrCreate()"
      ],
      "metadata": {
        "id": "ElxFFi47k-pl"
      },
      "execution_count": 6,
      "outputs": []
    },
    {
      "cell_type": "markdown",
      "source": [
        "## Question 3"
      ],
      "metadata": {
        "id": "ZjEvbVqbiuC3"
      }
    },
    {
      "cell_type": "code",
      "source": [
        "df = spark.read.csv('drinks.csv' , header = True , inferSchema = True)"
      ],
      "metadata": {
        "id": "4wBsQIjBiynL"
      },
      "execution_count": 14,
      "outputs": []
    },
    {
      "cell_type": "code",
      "source": [
        "df.show()"
      ],
      "metadata": {
        "colab": {
          "base_uri": "https://localhost:8080/"
        },
        "id": "hmO6gZ1qmr1N",
        "outputId": "c3a6ca9b-54b8-4f7e-e594-fb73d45191da"
      },
      "execution_count": 15,
      "outputs": [
        {
          "output_type": "stream",
          "name": "stdout",
          "text": [
            "+-----------------+-------------+---------------+-------------+----------------------------+---------+\n",
            "|          country|beer_servings|spirit_servings|wine_servings|total_litres_of_pure_alcohol|continent|\n",
            "+-----------------+-------------+---------------+-------------+----------------------------+---------+\n",
            "|      Afghanistan|            0|              0|            0|                         0.0|       AS|\n",
            "|          Albania|           89|            132|           54|                         4.9|       EU|\n",
            "|          Algeria|           25|              0|           14|                         0.7|       AF|\n",
            "|          Andorra|          245|            138|          312|                        12.4|       EU|\n",
            "|           Angola|          217|             57|           45|                         5.9|       AF|\n",
            "|Antigua & Barbuda|          102|            128|           45|                         4.9|       NA|\n",
            "|        Argentina|          193|             25|          221|                         8.3|       SA|\n",
            "|          Armenia|           21|            179|           11|                         3.8|       EU|\n",
            "|        Australia|          261|             72|          212|                        10.4|       OC|\n",
            "|          Austria|          279|             75|          191|                         9.7|       EU|\n",
            "|       Azerbaijan|           21|             46|            5|                         1.3|       EU|\n",
            "|          Bahamas|          122|            176|           51|                         6.3|       NA|\n",
            "|          Bahrain|           42|             63|            7|                         2.0|       AS|\n",
            "|       Bangladesh|            0|              0|            0|                         0.0|       AS|\n",
            "|         Barbados|          143|            173|           36|                         6.3|       NA|\n",
            "|          Belarus|          142|            373|           42|                        14.4|       EU|\n",
            "|          Belgium|          295|             84|          212|                        10.5|       EU|\n",
            "|           Belize|          263|            114|            8|                         6.8|       NA|\n",
            "|            Benin|           34|              4|           13|                         1.1|       AF|\n",
            "|           Bhutan|           23|              0|            0|                         0.4|       AS|\n",
            "+-----------------+-------------+---------------+-------------+----------------------------+---------+\n",
            "only showing top 20 rows\n",
            "\n"
          ]
        }
      ]
    },
    {
      "cell_type": "code",
      "source": [
        "df.printSchema()"
      ],
      "metadata": {
        "colab": {
          "base_uri": "https://localhost:8080/"
        },
        "id": "Ky2xZe0viy65",
        "outputId": "7d9d2038-025f-4798-852e-b9e323eb0e02"
      },
      "execution_count": 17,
      "outputs": [
        {
          "output_type": "stream",
          "name": "stdout",
          "text": [
            "root\n",
            " |-- country: string (nullable = true)\n",
            " |-- beer_servings: integer (nullable = true)\n",
            " |-- spirit_servings: integer (nullable = true)\n",
            " |-- wine_servings: integer (nullable = true)\n",
            " |-- total_litres_of_pure_alcohol: double (nullable = true)\n",
            " |-- continent: string (nullable = true)\n",
            "\n"
          ]
        }
      ]
    },
    {
      "cell_type": "code",
      "source": [
        "df.groupby('continent').mean().sort('avg(beer_servings)' , ascending = False).select(['continent' , 'avg(beer_servings)']).show()"
      ],
      "metadata": {
        "colab": {
          "base_uri": "https://localhost:8080/"
        },
        "id": "XSgRg24VizK_",
        "outputId": "89723201-0ae3-47f5-8720-a7c258fb2730"
      },
      "execution_count": 28,
      "outputs": [
        {
          "output_type": "stream",
          "name": "stdout",
          "text": [
            "+---------+------------------+\n",
            "|continent|avg(beer_servings)|\n",
            "+---------+------------------+\n",
            "|       EU|193.77777777777777|\n",
            "|       SA|175.08333333333334|\n",
            "|       NA|145.43478260869566|\n",
            "|       OC|           89.6875|\n",
            "|       AF|61.471698113207545|\n",
            "|       AS| 37.04545454545455|\n",
            "+---------+------------------+\n",
            "\n"
          ]
        }
      ]
    },
    {
      "cell_type": "code",
      "source": [
        "df.groupby('continent').agg(F.mean('wine_servings') , F.count('wine_servings') , F.std('wine_servings'), F.min('wine_servings') , F.max('wine_servings')).show()"
      ],
      "metadata": {
        "colab": {
          "base_uri": "https://localhost:8080/"
        },
        "id": "4PZ5gNwQoARg",
        "outputId": "85590d71-4475-474a-ae5f-8734ebeac791"
      },
      "execution_count": 36,
      "outputs": [
        {
          "output_type": "stream",
          "name": "stdout",
          "text": [
            "+---------+------------------+--------------------+------------------+------------------+------------------+\n",
            "|continent|avg(wine_servings)|count(wine_servings)|std(wine_servings)|min(wine_servings)|max(wine_servings)|\n",
            "+---------+------------------+--------------------+------------------+------------------+------------------+\n",
            "|       NA| 24.52173913043478|                  23|28.266378301658847|                 1|               100|\n",
            "|       SA|62.416666666666664|                  12| 88.62018888937148|                 1|               221|\n",
            "|       AS| 9.068181818181818|                  44|21.667033931944484|                 0|               123|\n",
            "|       OC|            35.625|                  16| 64.55578982554547|                 0|               212|\n",
            "|       EU|142.22222222222223|                  45| 97.42173756146497|                 0|               370|\n",
            "|       AF|16.264150943396228|                  53| 38.84641897335842|                 0|               233|\n",
            "+---------+------------------+--------------------+------------------+------------------+------------------+\n",
            "\n"
          ]
        }
      ]
    },
    {
      "cell_type": "code",
      "source": [
        "df.groupby('continent').mean().show()"
      ],
      "metadata": {
        "colab": {
          "base_uri": "https://localhost:8080/"
        },
        "id": "hLydJtxjoAXE",
        "outputId": "dde4f446-18ce-4763-fcbe-44d3b3192006"
      },
      "execution_count": 38,
      "outputs": [
        {
          "output_type": "stream",
          "name": "stdout",
          "text": [
            "+---------+------------------+--------------------+------------------+---------------------------------+\n",
            "|continent|avg(beer_servings)|avg(spirit_servings)|avg(wine_servings)|avg(total_litres_of_pure_alcohol)|\n",
            "+---------+------------------+--------------------+------------------+---------------------------------+\n",
            "|       NA|145.43478260869566|   165.7391304347826| 24.52173913043478|                5.995652173913044|\n",
            "|       SA|175.08333333333334|              114.75|62.416666666666664|                6.308333333333334|\n",
            "|       AS| 37.04545454545455|   60.84090909090909| 9.068181818181818|               2.1704545454545454|\n",
            "|       OC|           89.6875|             58.4375|            35.625|               3.3812500000000005|\n",
            "|       EU|193.77777777777777|  132.55555555555554|142.22222222222223|                8.617777777777777|\n",
            "|       AF|61.471698113207545|  16.339622641509433|16.264150943396228|                 3.00754716981132|\n",
            "+---------+------------------+--------------------+------------------+---------------------------------+\n",
            "\n"
          ]
        }
      ]
    },
    {
      "cell_type": "code",
      "source": [
        " df.createOrReplaceTempView('df1')\n",
        "spark.sql('select continent, percentile_approx(beer_servings , 0.5),percentile_approx(spirit_servings , 0.5),percentile_approx(wine_servings , 0.5),percentile_approx(total_litres_of_pure_alcohol , 0.5) from df1 group by continent').show()"
      ],
      "metadata": {
        "colab": {
          "base_uri": "https://localhost:8080/"
        },
        "id": "Eg_a9AOVoAc4",
        "outputId": "f763654f-58d7-488e-b32c-d4cffef5ce4f"
      },
      "execution_count": 47,
      "outputs": [
        {
          "output_type": "stream",
          "name": "stdout",
          "text": [
            "+---------+--------------------------------------------+----------------------------------------------+--------------------------------------------+-----------------------------------------------------------+\n",
            "|continent|percentile_approx(beer_servings, 0.5, 10000)|percentile_approx(spirit_servings, 0.5, 10000)|percentile_approx(wine_servings, 0.5, 10000)|percentile_approx(total_litres_of_pure_alcohol, 0.5, 10000)|\n",
            "+---------+--------------------------------------------+----------------------------------------------+--------------------------------------------+-----------------------------------------------------------+\n",
            "|       NA|                                         143|                                           137|                                          11|                                                        6.3|\n",
            "|       SA|                                         162|                                           100|                                           8|                                                        6.6|\n",
            "|       AS|                                          16|                                            16|                                           1|                                                        1.0|\n",
            "|       OC|                                          49|                                            35|                                           8|                                                        1.5|\n",
            "|       EU|                                         219|                                           122|                                         128|                                                       10.0|\n",
            "|       AF|                                          32|                                             3|                                           2|                                                        2.3|\n",
            "+---------+--------------------------------------------+----------------------------------------------+--------------------------------------------+-----------------------------------------------------------+\n",
            "\n"
          ]
        }
      ]
    },
    {
      "cell_type": "code",
      "source": [
        "df.groupby('continent').agg(F.mean('spirit_servings') , F.min('spirit_servings'),F.max('spirit_servings')).show()"
      ],
      "metadata": {
        "colab": {
          "base_uri": "https://localhost:8080/"
        },
        "id": "0TNKXuL-oAgf",
        "outputId": "3dab45ad-20d9-4ce2-9fa9-f78d01758fef"
      },
      "execution_count": 51,
      "outputs": [
        {
          "output_type": "stream",
          "name": "stdout",
          "text": [
            "+---------+--------------------+--------------------+--------------------+\n",
            "|continent|avg(spirit_servings)|min(spirit_servings)|max(spirit_servings)|\n",
            "+---------+--------------------+--------------------+--------------------+\n",
            "|       NA|   165.7391304347826|                  68|                 438|\n",
            "|       SA|              114.75|                  25|                 302|\n",
            "|       AS|   60.84090909090909|                   0|                 326|\n",
            "|       OC|             58.4375|                   0|                 254|\n",
            "|       EU|  132.55555555555554|                   0|                 373|\n",
            "|       AF|  16.339622641509433|                   0|                 152|\n",
            "+---------+--------------------+--------------------+--------------------+\n",
            "\n"
          ]
        }
      ]
    },
    {
      "cell_type": "markdown",
      "source": [],
      "metadata": {
        "id": "J5C0Ns5KuxLL"
      }
    },
    {
      "cell_type": "markdown",
      "source": [
        "## Question 4"
      ],
      "metadata": {
        "id": "qX3beXbguy9q"
      }
    },
    {
      "cell_type": "code",
      "source": [
        "users = spark.read.csv('u.csv' , header = True , inferSchema = True)"
      ],
      "metadata": {
        "id": "ASUsZkXau2RN"
      },
      "execution_count": 52,
      "outputs": []
    },
    {
      "cell_type": "code",
      "source": [
        "users.show()"
      ],
      "metadata": {
        "colab": {
          "base_uri": "https://localhost:8080/"
        },
        "id": "GylBz9qyu4xt",
        "outputId": "0b8773be-b29c-4159-ac73-6efcbf7f4b5b"
      },
      "execution_count": 53,
      "outputs": [
        {
          "output_type": "stream",
          "name": "stdout",
          "text": [
            "+-------+---+------+-------------+--------+\n",
            "|user_id|age|gender|   occupation|zip_code|\n",
            "+-------+---+------+-------------+--------+\n",
            "|      1| 24|     M|   technician|   85711|\n",
            "|      2| 53|     F|        other|   94043|\n",
            "|      3| 23|     M|       writer|   32067|\n",
            "|      4| 24|     M|   technician|   43537|\n",
            "|      5| 33|     F|        other|   15213|\n",
            "|      6| 42|     M|    executive|   98101|\n",
            "|      7| 57|     M|administrator|   91344|\n",
            "|      8| 36|     M|administrator|    5201|\n",
            "|      9| 29|     M|      student|    1002|\n",
            "|     10| 53|     M|       lawyer|   90703|\n",
            "|     11| 39|     F|        other|   30329|\n",
            "|     12| 28|     F|        other|    6405|\n",
            "|     13| 47|     M|     educator|   29206|\n",
            "|     14| 45|     M|    scientist|   55106|\n",
            "|     15| 49|     F|     educator|   97301|\n",
            "|     16| 21|     M|entertainment|   10309|\n",
            "|     17| 30|     M|   programmer|    6355|\n",
            "|     18| 35|     F|        other|   37212|\n",
            "|     19| 40|     M|    librarian|    2138|\n",
            "|     20| 42|     F|    homemaker|   95660|\n",
            "+-------+---+------+-------------+--------+\n",
            "only showing top 20 rows\n",
            "\n"
          ]
        }
      ]
    },
    {
      "cell_type": "code",
      "source": [
        "users.groupby('occupation').mean().sort('occupation').select(['occupation' , 'avg(age)']).show()"
      ],
      "metadata": {
        "colab": {
          "base_uri": "https://localhost:8080/"
        },
        "id": "1zBq2QOnu43n",
        "outputId": "054dc9c0-d3b6-41fb-e1dc-e4fd26345e57"
      },
      "execution_count": 57,
      "outputs": [
        {
          "output_type": "stream",
          "name": "stdout",
          "text": [
            "+-------------+------------------+\n",
            "|   occupation|          avg(age)|\n",
            "+-------------+------------------+\n",
            "|administrator| 38.74683544303797|\n",
            "|       artist|31.392857142857142|\n",
            "|       doctor| 43.57142857142857|\n",
            "|     educator| 42.01052631578948|\n",
            "|     engineer| 36.38805970149254|\n",
            "|entertainment| 29.22222222222222|\n",
            "|    executive|          38.71875|\n",
            "|   healthcare|           41.5625|\n",
            "|    homemaker| 32.57142857142857|\n",
            "|       lawyer|             36.75|\n",
            "|    librarian|              40.0|\n",
            "|    marketing| 37.61538461538461|\n",
            "|         none|26.555555555555557|\n",
            "|        other|34.523809523809526|\n",
            "|   programmer|33.121212121212125|\n",
            "|      retired| 63.07142857142857|\n",
            "|     salesman|35.666666666666664|\n",
            "|    scientist| 35.54838709677419|\n",
            "|      student|22.081632653061224|\n",
            "|   technician|33.148148148148145|\n",
            "+-------------+------------------+\n",
            "only showing top 20 rows\n",
            "\n"
          ]
        }
      ]
    },
    {
      "cell_type": "code",
      "source": [
        "users2 = users.groupby('occupation').count()\n",
        "users2 = users2.withColumnRenamed('count' , 'count1')\n",
        "users1 = users.filter(F.col('gender') == 'M')\n",
        "users3 = users1.groupby('occupation').count()\n",
        "joined = users3.join(users2 , on = 'occupation' )\n",
        "\n",
        "joined = joined.withColumn('ratio' , joined['count']/joined['count1']).sort('ratio' ,ascending =False)\n",
        "joined.show()"
      ],
      "metadata": {
        "colab": {
          "base_uri": "https://localhost:8080/"
        },
        "id": "2-zdklpHu47_",
        "outputId": "97c43bf9-3c4a-4ee0-b68f-499e813731c8"
      },
      "execution_count": 94,
      "outputs": [
        {
          "output_type": "stream",
          "name": "stdout",
          "text": [
            "+-------------+-----+------+-------------------+\n",
            "|   occupation|count|count1|              ratio|\n",
            "+-------------+-----+------+-------------------+\n",
            "|       doctor|    7|     7|                1.0|\n",
            "|     engineer|   65|    67| 0.9701492537313433|\n",
            "|   technician|   26|    27| 0.9629629629629629|\n",
            "|      retired|   13|    14| 0.9285714285714286|\n",
            "|   programmer|   60|    66| 0.9090909090909091|\n",
            "|    executive|   29|    32|            0.90625|\n",
            "|    scientist|   28|    31| 0.9032258064516129|\n",
            "|entertainment|   16|    18| 0.8888888888888888|\n",
            "|       lawyer|   10|    12| 0.8333333333333334|\n",
            "|     salesman|    9|    12|               0.75|\n",
            "|     educator|   69|    95| 0.7263157894736842|\n",
            "|      student|  136|   196| 0.6938775510204082|\n",
            "|        other|   69|   105| 0.6571428571428571|\n",
            "|    marketing|   16|    26| 0.6153846153846154|\n",
            "|       writer|   26|    45| 0.5777777777777777|\n",
            "|         none|    5|     9| 0.5555555555555556|\n",
            "|administrator|   43|    79| 0.5443037974683544|\n",
            "|       artist|   15|    28| 0.5357142857142857|\n",
            "|    librarian|   22|    51|0.43137254901960786|\n",
            "|   healthcare|    5|    16|             0.3125|\n",
            "+-------------+-----+------+-------------------+\n",
            "only showing top 20 rows\n",
            "\n"
          ]
        }
      ]
    },
    {
      "cell_type": "code",
      "source": [
        "users.groupby('occupation').agg(F.min('age') , F.max('age')).sort('occupation' ).show()"
      ],
      "metadata": {
        "colab": {
          "base_uri": "https://localhost:8080/"
        },
        "id": "f8eTDq2P06Gz",
        "outputId": "b69651dd-4c61-4ba5-9d4d-42da310eb998"
      },
      "execution_count": 98,
      "outputs": [
        {
          "output_type": "stream",
          "name": "stdout",
          "text": [
            "+-------------+--------+--------+\n",
            "|   occupation|min(age)|max(age)|\n",
            "+-------------+--------+--------+\n",
            "|administrator|      21|      70|\n",
            "|       artist|      19|      48|\n",
            "|       doctor|      28|      64|\n",
            "|     educator|      23|      63|\n",
            "|     engineer|      22|      70|\n",
            "|entertainment|      15|      50|\n",
            "|    executive|      22|      69|\n",
            "|   healthcare|      22|      62|\n",
            "|    homemaker|      20|      50|\n",
            "|       lawyer|      21|      53|\n",
            "|    librarian|      23|      69|\n",
            "|    marketing|      24|      55|\n",
            "|         none|      11|      55|\n",
            "|        other|      13|      64|\n",
            "|   programmer|      20|      63|\n",
            "|      retired|      51|      73|\n",
            "|     salesman|      18|      66|\n",
            "|    scientist|      23|      55|\n",
            "|      student|       7|      42|\n",
            "|   technician|      21|      55|\n",
            "+-------------+--------+--------+\n",
            "only showing top 20 rows\n",
            "\n"
          ]
        }
      ]
    },
    {
      "cell_type": "code",
      "source": [
        "# users_male = users.filter(F.col('gender') == 'M')\n",
        "# users_female = users.filter(F.col('gender') == 'F')\n",
        "\n",
        "# join1 = users_male.groupby('occupation').agg(F.mean('age'))\n",
        "# join2 = users_female.groupby('occupation').agg(F.mean('age'))\n",
        "\n",
        "# total = join1.join(join2 , on = 'occupation')\n",
        "# total.sort('occupation').show()\n",
        "\n",
        "users.groupby(['occupation' , 'gender']).mean().sort('occupation').select(['occupation','gender', 'avg(age)']).show()"
      ],
      "metadata": {
        "colab": {
          "base_uri": "https://localhost:8080/"
        },
        "id": "g4lMUIcEwHCC",
        "outputId": "11dbc1cc-2c27-499b-812c-4bb2dce11984"
      },
      "execution_count": 107,
      "outputs": [
        {
          "output_type": "stream",
          "name": "stdout",
          "text": [
            "+-------------+------+------------------+\n",
            "|   occupation|gender|          avg(age)|\n",
            "+-------------+------+------------------+\n",
            "|administrator|     M| 37.16279069767442|\n",
            "|administrator|     F|40.638888888888886|\n",
            "|       artist|     F|30.307692307692307|\n",
            "|       artist|     M|32.333333333333336|\n",
            "|       doctor|     M| 43.57142857142857|\n",
            "|     educator|     F| 39.11538461538461|\n",
            "|     educator|     M| 43.10144927536232|\n",
            "|     engineer|     F|              29.5|\n",
            "|     engineer|     M|              36.6|\n",
            "|entertainment|     F|              31.0|\n",
            "|entertainment|     M|              29.0|\n",
            "|    executive|     M|38.172413793103445|\n",
            "|    executive|     F|              44.0|\n",
            "|   healthcare|     F| 39.81818181818182|\n",
            "|   healthcare|     M|              45.4|\n",
            "|    homemaker|     F|34.166666666666664|\n",
            "|    homemaker|     M|              23.0|\n",
            "|       lawyer|     F|              39.5|\n",
            "|       lawyer|     M|              36.2|\n",
            "|    librarian|     M|              40.0|\n",
            "+-------------+------+------------------+\n",
            "only showing top 20 rows\n",
            "\n"
          ]
        }
      ]
    },
    {
      "cell_type": "code",
      "source": [
        "gender_count = users.groupby(['occupation' , 'gender']).count()\n",
        "total_count = users.groupby(['occupation']).count()\n",
        "total_count = total_count.withColumnRenamed('count' , 'total_count')\n",
        "final = gender_count.join(total_count , on = 'occupation')\n",
        "final = final.withColumn('ratio', F.round(final['count']*100/final['total_count'] , 2))\n",
        "final.sort(['occupation' , 'gender']).select(['occupation' ,'gender', 'ratio']).show()"
      ],
      "metadata": {
        "colab": {
          "base_uri": "https://localhost:8080/"
        },
        "id": "1VRlws87wHGS",
        "outputId": "5fac3ceb-568f-4bb8-99b7-0239f51c2ded"
      },
      "execution_count": 116,
      "outputs": [
        {
          "output_type": "stream",
          "name": "stdout",
          "text": [
            "+-------------+------+-----+\n",
            "|   occupation|gender|ratio|\n",
            "+-------------+------+-----+\n",
            "|administrator|     F|45.57|\n",
            "|administrator|     M|54.43|\n",
            "|       artist|     F|46.43|\n",
            "|       artist|     M|53.57|\n",
            "|       doctor|     M|100.0|\n",
            "|     educator|     F|27.37|\n",
            "|     educator|     M|72.63|\n",
            "|     engineer|     F| 2.99|\n",
            "|     engineer|     M|97.01|\n",
            "|entertainment|     F|11.11|\n",
            "|entertainment|     M|88.89|\n",
            "|    executive|     F| 9.38|\n",
            "|    executive|     M|90.63|\n",
            "|   healthcare|     F|68.75|\n",
            "|   healthcare|     M|31.25|\n",
            "|    homemaker|     F|85.71|\n",
            "|    homemaker|     M|14.29|\n",
            "|       lawyer|     F|16.67|\n",
            "|       lawyer|     M|83.33|\n",
            "|    librarian|     F|56.86|\n",
            "+-------------+------+-----+\n",
            "only showing top 20 rows\n",
            "\n"
          ]
        }
      ]
    },
    {
      "cell_type": "code",
      "source": [],
      "metadata": {
        "id": "3ftLYtrbwHKp"
      },
      "execution_count": null,
      "outputs": []
    }
  ]
}