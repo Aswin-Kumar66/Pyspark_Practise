{
  "nbformat": 4,
  "nbformat_minor": 0,
  "metadata": {
    "colab": {
      "provenance": [],
      "authorship_tag": "ABX9TyOa1DizuNFf4u55bk0yDXyJ",
      "include_colab_link": true
    },
    "kernelspec": {
      "name": "python3",
      "display_name": "Python 3"
    },
    "language_info": {
      "name": "python"
    }
  },
  "cells": [
    {
      "cell_type": "markdown",
      "metadata": {
        "id": "view-in-github",
        "colab_type": "text"
      },
      "source": [
        "<a href=\"https://colab.research.google.com/github/Aswin-Kumar66/Pyspark_Practise/blob/main/Pyspark_Practise_3___UDF_.ipynb\" target=\"_parent\"><img src=\"https://colab.research.google.com/assets/colab-badge.svg\" alt=\"Open In Colab\"/></a>"
      ]
    },
    {
      "cell_type": "code",
      "execution_count": 2,
      "metadata": {
        "colab": {
          "base_uri": "https://localhost:8080/"
        },
        "id": "niQii_Mdk7Hr",
        "outputId": "6be2e3ff-2e78-4032-f610-43eab1a240b0"
      },
      "outputs": [
        {
          "output_type": "stream",
          "name": "stdout",
          "text": [
            "Collecting pyspark\n",
            "  Downloading pyspark-3.5.1.tar.gz (317.0 MB)\n",
            "\u001b[2K     \u001b[90m━━━━━━━━━━━━━━━━━━━━━━━━━━━━━━━━━━━━━━━━\u001b[0m \u001b[32m317.0/317.0 MB\u001b[0m \u001b[31m2.6 MB/s\u001b[0m eta \u001b[36m0:00:00\u001b[0m\n",
            "\u001b[?25h  Preparing metadata (setup.py) ... \u001b[?25l\u001b[?25hdone\n",
            "Requirement already satisfied: py4j==0.10.9.7 in /usr/local/lib/python3.10/dist-packages (from pyspark) (0.10.9.7)\n",
            "Building wheels for collected packages: pyspark\n",
            "  Building wheel for pyspark (setup.py) ... \u001b[?25l\u001b[?25hdone\n",
            "  Created wheel for pyspark: filename=pyspark-3.5.1-py2.py3-none-any.whl size=317488491 sha256=65c5fcca19aec84490e81bcf035c5be19278b6709d46a3881b28416496f5412d\n",
            "  Stored in directory: /root/.cache/pip/wheels/80/1d/60/2c256ed38dddce2fdd93be545214a63e02fbd8d74fb0b7f3a6\n",
            "Successfully built pyspark\n",
            "Installing collected packages: pyspark\n",
            "Successfully installed pyspark-3.5.1\n"
          ]
        }
      ],
      "source": [
        "pip install pyspark"
      ]
    },
    {
      "cell_type": "code",
      "source": [
        "import pyspark\n",
        "from pyspark.sql import SparkSession\n",
        "from pyspark.sql import functions as F\n",
        "\n",
        "spark = SparkSession.builder.getOrCreate()"
      ],
      "metadata": {
        "id": "ElxFFi47k-pl"
      },
      "execution_count": 6,
      "outputs": []
    },
    {
      "cell_type": "markdown",
      "source": [
        "## Question 5"
      ],
      "metadata": {
        "id": "2F1ri7BRA0Ak"
      }
    },
    {
      "cell_type": "code",
      "source": [
        "df = spark.read.csv('student-mat.csv' , header = True , inferSchema = True)"
      ],
      "metadata": {
        "id": "2WxloyKgA2c2"
      },
      "execution_count": 126,
      "outputs": []
    },
    {
      "cell_type": "code",
      "source": [
        "df.show()"
      ],
      "metadata": {
        "colab": {
          "base_uri": "https://localhost:8080/"
        },
        "id": "AXCm_pDPBJFk",
        "outputId": "98cbd384-80f5-44d2-98b6-b52bd4b42c36"
      },
      "execution_count": 127,
      "outputs": [
        {
          "output_type": "stream",
          "name": "stdout",
          "text": [
            "+------+---+---+-------+-------+-------+----+----+--------+--------+----------+--------+----------+---------+--------+---------+------+----+----------+-------+------+--------+--------+------+--------+-----+----+----+------+--------+---+---+---+\n",
            "|school|sex|age|address|famsize|Pstatus|Medu|Fedu|    Mjob|    Fjob|    reason|guardian|traveltime|studytime|failures|schoolsup|famsup|paid|activities|nursery|higher|internet|romantic|famrel|freetime|goout|Dalc|Walc|health|absences| G1| G2| G3|\n",
            "+------+---+---+-------+-------+-------+----+----+--------+--------+----------+--------+----------+---------+--------+---------+------+----+----------+-------+------+--------+--------+------+--------+-----+----+----+------+--------+---+---+---+\n",
            "|    GP|  F| 18|      U|    GT3|      A|   4|   4| at_home| teacher|    course|  mother|         2|        2|       0|      yes|    no|  no|        no|    yes|   yes|      no|      no|     4|       3|    4|   1|   1|     3|       6|  5|  6|  6|\n",
            "|    GP|  F| 17|      U|    GT3|      T|   1|   1| at_home|   other|    course|  father|         1|        2|       0|       no|   yes|  no|        no|     no|   yes|     yes|      no|     5|       3|    3|   1|   1|     3|       4|  5|  5|  6|\n",
            "|    GP|  F| 15|      U|    LE3|      T|   1|   1| at_home|   other|     other|  mother|         1|        2|       3|      yes|    no| yes|        no|    yes|   yes|     yes|      no|     4|       3|    2|   2|   3|     3|      10|  7|  8| 10|\n",
            "|    GP|  F| 15|      U|    GT3|      T|   4|   2|  health|services|      home|  mother|         1|        3|       0|       no|   yes| yes|       yes|    yes|   yes|     yes|     yes|     3|       2|    2|   1|   1|     5|       2| 15| 14| 15|\n",
            "|    GP|  F| 16|      U|    GT3|      T|   3|   3|   other|   other|      home|  father|         1|        2|       0|       no|   yes| yes|        no|    yes|   yes|      no|      no|     4|       3|    2|   1|   2|     5|       4|  6| 10| 10|\n",
            "|    GP|  M| 16|      U|    LE3|      T|   4|   3|services|   other|reputation|  mother|         1|        2|       0|       no|   yes| yes|       yes|    yes|   yes|     yes|      no|     5|       4|    2|   1|   2|     5|      10| 15| 15| 15|\n",
            "|    GP|  M| 16|      U|    LE3|      T|   2|   2|   other|   other|      home|  mother|         1|        2|       0|       no|    no|  no|        no|    yes|   yes|     yes|      no|     4|       4|    4|   1|   1|     3|       0| 12| 12| 11|\n",
            "|    GP|  F| 17|      U|    GT3|      A|   4|   4|   other| teacher|      home|  mother|         2|        2|       0|      yes|   yes|  no|        no|    yes|   yes|      no|      no|     4|       1|    4|   1|   1|     1|       6|  6|  5|  6|\n",
            "|    GP|  M| 15|      U|    LE3|      A|   3|   2|services|   other|      home|  mother|         1|        2|       0|       no|   yes| yes|        no|    yes|   yes|     yes|      no|     4|       2|    2|   1|   1|     1|       0| 16| 18| 19|\n",
            "|    GP|  M| 15|      U|    GT3|      T|   3|   4|   other|   other|      home|  mother|         1|        2|       0|       no|   yes| yes|       yes|    yes|   yes|     yes|      no|     5|       5|    1|   1|   1|     5|       0| 14| 15| 15|\n",
            "|    GP|  F| 15|      U|    GT3|      T|   4|   4| teacher|  health|reputation|  mother|         1|        2|       0|       no|   yes| yes|        no|    yes|   yes|     yes|      no|     3|       3|    3|   1|   2|     2|       0| 10|  8|  9|\n",
            "|    GP|  F| 15|      U|    GT3|      T|   2|   1|services|   other|reputation|  father|         3|        3|       0|       no|   yes|  no|       yes|    yes|   yes|     yes|      no|     5|       2|    2|   1|   1|     4|       4| 10| 12| 12|\n",
            "|    GP|  M| 15|      U|    LE3|      T|   4|   4|  health|services|    course|  father|         1|        1|       0|       no|   yes| yes|       yes|    yes|   yes|     yes|      no|     4|       3|    3|   1|   3|     5|       2| 14| 14| 14|\n",
            "|    GP|  M| 15|      U|    GT3|      T|   4|   3| teacher|   other|    course|  mother|         2|        2|       0|       no|   yes| yes|        no|    yes|   yes|     yes|      no|     5|       4|    3|   1|   2|     3|       2| 10| 10| 11|\n",
            "|    GP|  M| 15|      U|    GT3|      A|   2|   2|   other|   other|      home|   other|         1|        3|       0|       no|   yes|  no|        no|    yes|   yes|     yes|     yes|     4|       5|    2|   1|   1|     3|       0| 14| 16| 16|\n",
            "|    GP|  F| 16|      U|    GT3|      T|   4|   4|  health|   other|      home|  mother|         1|        1|       0|       no|   yes|  no|        no|    yes|   yes|     yes|      no|     4|       4|    4|   1|   2|     2|       4| 14| 14| 14|\n",
            "|    GP|  F| 16|      U|    GT3|      T|   4|   4|services|services|reputation|  mother|         1|        3|       0|       no|   yes| yes|       yes|    yes|   yes|     yes|      no|     3|       2|    3|   1|   2|     2|       6| 13| 14| 14|\n",
            "|    GP|  F| 16|      U|    GT3|      T|   3|   3|   other|   other|reputation|  mother|         3|        2|       0|      yes|   yes|  no|       yes|    yes|   yes|      no|      no|     5|       3|    2|   1|   1|     4|       4|  8| 10| 10|\n",
            "|    GP|  M| 17|      U|    GT3|      T|   3|   2|services|services|    course|  mother|         1|        1|       3|       no|   yes|  no|       yes|    yes|   yes|     yes|      no|     5|       5|    5|   2|   4|     5|      16|  6|  5|  5|\n",
            "|    GP|  M| 16|      U|    LE3|      T|   4|   3|  health|   other|      home|  father|         1|        1|       0|       no|    no| yes|       yes|    yes|   yes|     yes|      no|     3|       1|    3|   1|   3|     5|       4|  8| 10| 10|\n",
            "+------+---+---+-------+-------+-------+----+----+--------+--------+----------+--------+----------+---------+--------+---------+------+----+----------+-------+------+--------+--------+------+--------+-----+----+----+------+--------+---+---+---+\n",
            "only showing top 20 rows\n",
            "\n"
          ]
        }
      ]
    },
    {
      "cell_type": "code",
      "source": [
        "df = df.select(df.columns[df.columns.index('school'):df.columns.index('guardian')+1])"
      ],
      "metadata": {
        "id": "q2U7CN0XBJJx"
      },
      "execution_count": 128,
      "outputs": []
    },
    {
      "cell_type": "code",
      "source": [
        "df.show()"
      ],
      "metadata": {
        "colab": {
          "base_uri": "https://localhost:8080/"
        },
        "id": "a89As-oaBJNX",
        "outputId": "eea9226e-0118-400f-89de-fa25018154d3"
      },
      "execution_count": 129,
      "outputs": [
        {
          "output_type": "stream",
          "name": "stdout",
          "text": [
            "+------+---+---+-------+-------+-------+----+----+--------+--------+----------+--------+\n",
            "|school|sex|age|address|famsize|Pstatus|Medu|Fedu|    Mjob|    Fjob|    reason|guardian|\n",
            "+------+---+---+-------+-------+-------+----+----+--------+--------+----------+--------+\n",
            "|    GP|  F| 18|      U|    GT3|      A|   4|   4| at_home| teacher|    course|  mother|\n",
            "|    GP|  F| 17|      U|    GT3|      T|   1|   1| at_home|   other|    course|  father|\n",
            "|    GP|  F| 15|      U|    LE3|      T|   1|   1| at_home|   other|     other|  mother|\n",
            "|    GP|  F| 15|      U|    GT3|      T|   4|   2|  health|services|      home|  mother|\n",
            "|    GP|  F| 16|      U|    GT3|      T|   3|   3|   other|   other|      home|  father|\n",
            "|    GP|  M| 16|      U|    LE3|      T|   4|   3|services|   other|reputation|  mother|\n",
            "|    GP|  M| 16|      U|    LE3|      T|   2|   2|   other|   other|      home|  mother|\n",
            "|    GP|  F| 17|      U|    GT3|      A|   4|   4|   other| teacher|      home|  mother|\n",
            "|    GP|  M| 15|      U|    LE3|      A|   3|   2|services|   other|      home|  mother|\n",
            "|    GP|  M| 15|      U|    GT3|      T|   3|   4|   other|   other|      home|  mother|\n",
            "|    GP|  F| 15|      U|    GT3|      T|   4|   4| teacher|  health|reputation|  mother|\n",
            "|    GP|  F| 15|      U|    GT3|      T|   2|   1|services|   other|reputation|  father|\n",
            "|    GP|  M| 15|      U|    LE3|      T|   4|   4|  health|services|    course|  father|\n",
            "|    GP|  M| 15|      U|    GT3|      T|   4|   3| teacher|   other|    course|  mother|\n",
            "|    GP|  M| 15|      U|    GT3|      A|   2|   2|   other|   other|      home|   other|\n",
            "|    GP|  F| 16|      U|    GT3|      T|   4|   4|  health|   other|      home|  mother|\n",
            "|    GP|  F| 16|      U|    GT3|      T|   4|   4|services|services|reputation|  mother|\n",
            "|    GP|  F| 16|      U|    GT3|      T|   3|   3|   other|   other|reputation|  mother|\n",
            "|    GP|  M| 17|      U|    GT3|      T|   3|   2|services|services|    course|  mother|\n",
            "|    GP|  M| 16|      U|    LE3|      T|   4|   3|  health|   other|      home|  father|\n",
            "+------+---+---+-------+-------+-------+----+----+--------+--------+----------+--------+\n",
            "only showing top 20 rows\n",
            "\n"
          ]
        }
      ]
    },
    {
      "cell_type": "code",
      "source": [
        "def cap(x):\n",
        "  return x.capitalize()\n",
        "\n",
        "capitalize = F.udf(lambda x : cap(x))\n",
        "df = df.withColumn('Mjob' , capitalize(F.col('Mjob'))).withColumn('Fjob' , capitalize(F.col('Fjob')))"
      ],
      "metadata": {
        "id": "mp-jzs91DEWC"
      },
      "execution_count": 140,
      "outputs": []
    },
    {
      "cell_type": "code",
      "source": [
        "df.printSchema()"
      ],
      "metadata": {
        "colab": {
          "base_uri": "https://localhost:8080/"
        },
        "id": "6Y7bu_v8G5F5",
        "outputId": "b9423057-4b80-42b5-eb24-a94f1f0a6261"
      },
      "execution_count": 142,
      "outputs": [
        {
          "output_type": "stream",
          "name": "stdout",
          "text": [
            "root\n",
            " |-- school: string (nullable = true)\n",
            " |-- sex: string (nullable = true)\n",
            " |-- age: integer (nullable = true)\n",
            " |-- address: string (nullable = true)\n",
            " |-- famsize: string (nullable = true)\n",
            " |-- Pstatus: string (nullable = true)\n",
            " |-- Medu: integer (nullable = true)\n",
            " |-- Fedu: integer (nullable = true)\n",
            " |-- Mjob: string (nullable = true)\n",
            " |-- Fjob: string (nullable = true)\n",
            " |-- reason: string (nullable = true)\n",
            " |-- guardian: string (nullable = true)\n",
            "\n"
          ]
        }
      ]
    },
    {
      "cell_type": "code",
      "source": [
        "df.tail(5)"
      ],
      "metadata": {
        "colab": {
          "base_uri": "https://localhost:8080/"
        },
        "id": "FIZQejjUD1ca",
        "outputId": "a6e0cf1c-8dcc-4717-d1d9-0187f1cc9163"
      },
      "execution_count": 137,
      "outputs": [
        {
          "output_type": "execute_result",
          "data": {
            "text/plain": [
              "[Row(school='MS', sex='M', age=20, address='U', famsize='LE3', Pstatus='A', Medu=2, Fedu=2, Mjob='Services', Fjob='Services', reason='course', guardian='other'),\n",
              " Row(school='MS', sex='M', age=17, address='U', famsize='LE3', Pstatus='T', Medu=3, Fedu=1, Mjob='Services', Fjob='Services', reason='course', guardian='mother'),\n",
              " Row(school='MS', sex='M', age=21, address='R', famsize='GT3', Pstatus='T', Medu=1, Fedu=1, Mjob='Other', Fjob='Other', reason='course', guardian='other'),\n",
              " Row(school='MS', sex='M', age=18, address='R', famsize='LE3', Pstatus='T', Medu=3, Fedu=2, Mjob='Services', Fjob='Other', reason='course', guardian='mother'),\n",
              " Row(school='MS', sex='M', age=19, address='U', famsize='LE3', Pstatus='T', Medu=1, Fedu=1, Mjob='Other', Fjob='At_home', reason='course', guardian='father')]"
            ]
          },
          "metadata": {},
          "execution_count": 137
        }
      ]
    },
    {
      "cell_type": "code",
      "source": [
        "def legal(x):\n",
        "  if x > 17 :\n",
        "    return 'Yes'\n",
        "  else :\n",
        "    return 'No'\n",
        "\n",
        "convert = F.udf(lambda x : legal(x))\n",
        "df.withColumn('legal_drinker' , convert(F.col('age'))).show()"
      ],
      "metadata": {
        "colab": {
          "base_uri": "https://localhost:8080/"
        },
        "id": "XJEh5duAD1gc",
        "outputId": "634402ce-2b0d-4e84-a7d1-d96f1dd60c8b"
      },
      "execution_count": 144,
      "outputs": [
        {
          "output_type": "stream",
          "name": "stdout",
          "text": [
            "+------+---+---+-------+-------+-------+----+----+--------+--------+----------+--------+-------------+\n",
            "|school|sex|age|address|famsize|Pstatus|Medu|Fedu|    Mjob|    Fjob|    reason|guardian|legal_drinker|\n",
            "+------+---+---+-------+-------+-------+----+----+--------+--------+----------+--------+-------------+\n",
            "|    GP|  F| 18|      U|    GT3|      A|   4|   4| At_home| Teacher|    course|  mother|          Yes|\n",
            "|    GP|  F| 17|      U|    GT3|      T|   1|   1| At_home|   Other|    course|  father|           No|\n",
            "|    GP|  F| 15|      U|    LE3|      T|   1|   1| At_home|   Other|     other|  mother|           No|\n",
            "|    GP|  F| 15|      U|    GT3|      T|   4|   2|  Health|Services|      home|  mother|           No|\n",
            "|    GP|  F| 16|      U|    GT3|      T|   3|   3|   Other|   Other|      home|  father|           No|\n",
            "|    GP|  M| 16|      U|    LE3|      T|   4|   3|Services|   Other|reputation|  mother|           No|\n",
            "|    GP|  M| 16|      U|    LE3|      T|   2|   2|   Other|   Other|      home|  mother|           No|\n",
            "|    GP|  F| 17|      U|    GT3|      A|   4|   4|   Other| Teacher|      home|  mother|           No|\n",
            "|    GP|  M| 15|      U|    LE3|      A|   3|   2|Services|   Other|      home|  mother|           No|\n",
            "|    GP|  M| 15|      U|    GT3|      T|   3|   4|   Other|   Other|      home|  mother|           No|\n",
            "|    GP|  F| 15|      U|    GT3|      T|   4|   4| Teacher|  Health|reputation|  mother|           No|\n",
            "|    GP|  F| 15|      U|    GT3|      T|   2|   1|Services|   Other|reputation|  father|           No|\n",
            "|    GP|  M| 15|      U|    LE3|      T|   4|   4|  Health|Services|    course|  father|           No|\n",
            "|    GP|  M| 15|      U|    GT3|      T|   4|   3| Teacher|   Other|    course|  mother|           No|\n",
            "|    GP|  M| 15|      U|    GT3|      A|   2|   2|   Other|   Other|      home|   other|           No|\n",
            "|    GP|  F| 16|      U|    GT3|      T|   4|   4|  Health|   Other|      home|  mother|           No|\n",
            "|    GP|  F| 16|      U|    GT3|      T|   4|   4|Services|Services|reputation|  mother|           No|\n",
            "|    GP|  F| 16|      U|    GT3|      T|   3|   3|   Other|   Other|reputation|  mother|           No|\n",
            "|    GP|  M| 17|      U|    GT3|      T|   3|   2|Services|Services|    course|  mother|           No|\n",
            "|    GP|  M| 16|      U|    LE3|      T|   4|   3|  Health|   Other|      home|  father|           No|\n",
            "+------+---+---+-------+-------+-------+----+----+--------+--------+----------+--------+-------------+\n",
            "only showing top 20 rows\n",
            "\n"
          ]
        }
      ]
    },
    {
      "cell_type": "code",
      "source": [
        "def mul(x):\n",
        "  return x*10\n",
        "\n",
        "mul_10 = F.udf(lambda x : mul(x))\n",
        "df.select('*' , mul_10(F.col('age')) , mul_10(F.col('Medu')), mul_10(F.col('Fedu')) ).show()"
      ],
      "metadata": {
        "colab": {
          "base_uri": "https://localhost:8080/"
        },
        "id": "nwlOwMkrHFsu",
        "outputId": "2bc7adc4-fb44-4401-ab15-635fc1eb6412"
      },
      "execution_count": 146,
      "outputs": [
        {
          "output_type": "stream",
          "name": "stdout",
          "text": [
            "+------+---+---+-------+-------+-------+----+----+--------+--------+----------+--------+-------------+--------------+--------------+\n",
            "|school|sex|age|address|famsize|Pstatus|Medu|Fedu|    Mjob|    Fjob|    reason|guardian|<lambda>(age)|<lambda>(Medu)|<lambda>(Fedu)|\n",
            "+------+---+---+-------+-------+-------+----+----+--------+--------+----------+--------+-------------+--------------+--------------+\n",
            "|    GP|  F| 18|      U|    GT3|      A|   4|   4| At_home| Teacher|    course|  mother|          180|            40|            40|\n",
            "|    GP|  F| 17|      U|    GT3|      T|   1|   1| At_home|   Other|    course|  father|          170|            10|            10|\n",
            "|    GP|  F| 15|      U|    LE3|      T|   1|   1| At_home|   Other|     other|  mother|          150|            10|            10|\n",
            "|    GP|  F| 15|      U|    GT3|      T|   4|   2|  Health|Services|      home|  mother|          150|            40|            20|\n",
            "|    GP|  F| 16|      U|    GT3|      T|   3|   3|   Other|   Other|      home|  father|          160|            30|            30|\n",
            "|    GP|  M| 16|      U|    LE3|      T|   4|   3|Services|   Other|reputation|  mother|          160|            40|            30|\n",
            "|    GP|  M| 16|      U|    LE3|      T|   2|   2|   Other|   Other|      home|  mother|          160|            20|            20|\n",
            "|    GP|  F| 17|      U|    GT3|      A|   4|   4|   Other| Teacher|      home|  mother|          170|            40|            40|\n",
            "|    GP|  M| 15|      U|    LE3|      A|   3|   2|Services|   Other|      home|  mother|          150|            30|            20|\n",
            "|    GP|  M| 15|      U|    GT3|      T|   3|   4|   Other|   Other|      home|  mother|          150|            30|            40|\n",
            "|    GP|  F| 15|      U|    GT3|      T|   4|   4| Teacher|  Health|reputation|  mother|          150|            40|            40|\n",
            "|    GP|  F| 15|      U|    GT3|      T|   2|   1|Services|   Other|reputation|  father|          150|            20|            10|\n",
            "|    GP|  M| 15|      U|    LE3|      T|   4|   4|  Health|Services|    course|  father|          150|            40|            40|\n",
            "|    GP|  M| 15|      U|    GT3|      T|   4|   3| Teacher|   Other|    course|  mother|          150|            40|            30|\n",
            "|    GP|  M| 15|      U|    GT3|      A|   2|   2|   Other|   Other|      home|   other|          150|            20|            20|\n",
            "|    GP|  F| 16|      U|    GT3|      T|   4|   4|  Health|   Other|      home|  mother|          160|            40|            40|\n",
            "|    GP|  F| 16|      U|    GT3|      T|   4|   4|Services|Services|reputation|  mother|          160|            40|            40|\n",
            "|    GP|  F| 16|      U|    GT3|      T|   3|   3|   Other|   Other|reputation|  mother|          160|            30|            30|\n",
            "|    GP|  M| 17|      U|    GT3|      T|   3|   2|Services|Services|    course|  mother|          170|            30|            20|\n",
            "|    GP|  M| 16|      U|    LE3|      T|   4|   3|  Health|   Other|      home|  father|          160|            40|            30|\n",
            "+------+---+---+-------+-------+-------+----+----+--------+--------+----------+--------+-------------+--------------+--------------+\n",
            "only showing top 20 rows\n",
            "\n"
          ]
        }
      ]
    }
  ]
}